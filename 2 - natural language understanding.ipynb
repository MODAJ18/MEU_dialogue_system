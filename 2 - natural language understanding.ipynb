{
 "cells": [
  {
   "cell_type": "markdown",
   "id": "4d45e546",
   "metadata": {},
   "source": [
    "# `1) Task-Oriented NLU`"
   ]
  },
  {
   "cell_type": "markdown",
   "id": "cc42db99",
   "metadata": {},
   "source": [
    "`TASK` -> Smart Home Controller"
   ]
  },
  {
   "cell_type": "markdown",
   "id": "34787298",
   "metadata": {},
   "source": [
    "### `1.1) Imports`"
   ]
  },
  {
   "cell_type": "code",
   "execution_count": 19,
   "id": "08383088",
   "metadata": {},
   "outputs": [],
   "source": [
    "import pandas as pd"
   ]
  },
  {
   "cell_type": "code",
   "execution_count": 20,
   "id": "3068b8b6",
   "metadata": {},
   "outputs": [
    {
     "name": "stdout",
     "output_type": "stream",
     "text": [
      "There are 23132 rows and 7 columns\n"
     ]
    }
   ],
   "source": [
    "nRowsRead = None\n",
    "\n",
    "fs_df = pd.read_csv('Data/fluent_speech_commands_dataset/data/train_data.csv', delimiter=',', nrows = nRowsRead)\n",
    "fs_df.dataframeName = 'train_data.csv'\n",
    "nRow, nCol = fs_df.shape\n",
    "print(f'There are {nRow} rows and {nCol} columns')"
   ]
  },
  {
   "cell_type": "code",
   "execution_count": 21,
   "id": "115d4d9c",
   "metadata": {},
   "outputs": [
    {
     "data": {
      "text/html": [
       "<div>\n",
       "<style scoped>\n",
       "    .dataframe tbody tr th:only-of-type {\n",
       "        vertical-align: middle;\n",
       "    }\n",
       "\n",
       "    .dataframe tbody tr th {\n",
       "        vertical-align: top;\n",
       "    }\n",
       "\n",
       "    .dataframe thead th {\n",
       "        text-align: right;\n",
       "    }\n",
       "</style>\n",
       "<table border=\"1\" class=\"dataframe\">\n",
       "  <thead>\n",
       "    <tr style=\"text-align: right;\">\n",
       "      <th></th>\n",
       "      <th>Unnamed: 0</th>\n",
       "      <th>path</th>\n",
       "      <th>speakerId</th>\n",
       "      <th>transcription</th>\n",
       "      <th>action</th>\n",
       "      <th>object</th>\n",
       "      <th>location</th>\n",
       "    </tr>\n",
       "  </thead>\n",
       "  <tbody>\n",
       "    <tr>\n",
       "      <th>0</th>\n",
       "      <td>0</td>\n",
       "      <td>wavs/speakers/2BqVo8kVB2Skwgyb/0a3129c0-4474-1...</td>\n",
       "      <td>2BqVo8kVB2Skwgyb</td>\n",
       "      <td>Change language</td>\n",
       "      <td>change language</td>\n",
       "      <td>none</td>\n",
       "      <td>none</td>\n",
       "    </tr>\n",
       "    <tr>\n",
       "      <th>1</th>\n",
       "      <td>1</td>\n",
       "      <td>wavs/speakers/2BqVo8kVB2Skwgyb/0ee42a80-4474-1...</td>\n",
       "      <td>2BqVo8kVB2Skwgyb</td>\n",
       "      <td>Resume</td>\n",
       "      <td>activate</td>\n",
       "      <td>music</td>\n",
       "      <td>none</td>\n",
       "    </tr>\n",
       "    <tr>\n",
       "      <th>2</th>\n",
       "      <td>2</td>\n",
       "      <td>wavs/speakers/2BqVo8kVB2Skwgyb/144d5be0-4474-1...</td>\n",
       "      <td>2BqVo8kVB2Skwgyb</td>\n",
       "      <td>Turn the lights on</td>\n",
       "      <td>activate</td>\n",
       "      <td>lights</td>\n",
       "      <td>none</td>\n",
       "    </tr>\n",
       "    <tr>\n",
       "      <th>3</th>\n",
       "      <td>3</td>\n",
       "      <td>wavs/speakers/2BqVo8kVB2Skwgyb/1811b6e0-4474-1...</td>\n",
       "      <td>2BqVo8kVB2Skwgyb</td>\n",
       "      <td>Switch on the lights</td>\n",
       "      <td>activate</td>\n",
       "      <td>lights</td>\n",
       "      <td>none</td>\n",
       "    </tr>\n",
       "    <tr>\n",
       "      <th>4</th>\n",
       "      <td>4</td>\n",
       "      <td>wavs/speakers/2BqVo8kVB2Skwgyb/1d9f3920-4474-1...</td>\n",
       "      <td>2BqVo8kVB2Skwgyb</td>\n",
       "      <td>Switch off the lights</td>\n",
       "      <td>deactivate</td>\n",
       "      <td>lights</td>\n",
       "      <td>none</td>\n",
       "    </tr>\n",
       "  </tbody>\n",
       "</table>\n",
       "</div>"
      ],
      "text/plain": [
       "   Unnamed: 0                                               path  \\\n",
       "0           0  wavs/speakers/2BqVo8kVB2Skwgyb/0a3129c0-4474-1...   \n",
       "1           1  wavs/speakers/2BqVo8kVB2Skwgyb/0ee42a80-4474-1...   \n",
       "2           2  wavs/speakers/2BqVo8kVB2Skwgyb/144d5be0-4474-1...   \n",
       "3           3  wavs/speakers/2BqVo8kVB2Skwgyb/1811b6e0-4474-1...   \n",
       "4           4  wavs/speakers/2BqVo8kVB2Skwgyb/1d9f3920-4474-1...   \n",
       "\n",
       "          speakerId          transcription           action  object location  \n",
       "0  2BqVo8kVB2Skwgyb        Change language  change language    none     none  \n",
       "1  2BqVo8kVB2Skwgyb                 Resume         activate   music     none  \n",
       "2  2BqVo8kVB2Skwgyb     Turn the lights on         activate  lights     none  \n",
       "3  2BqVo8kVB2Skwgyb   Switch on the lights         activate  lights     none  \n",
       "4  2BqVo8kVB2Skwgyb  Switch off the lights       deactivate  lights     none  "
      ]
     },
     "execution_count": 21,
     "metadata": {},
     "output_type": "execute_result"
    }
   ],
   "source": [
    "fs_df.head()"
   ]
  },
  {
   "cell_type": "markdown",
   "id": "8df3193c",
   "metadata": {},
   "source": [
    "**NLU:** `transcription` ---> `intent` + `object` + `location`"
   ]
  },
  {
   "cell_type": "code",
   "execution_count": 32,
   "id": "a6344ec1",
   "metadata": {},
   "outputs": [
    {
     "data": {
      "text/plain": [
       "object     location\n",
       "volume     none        4395\n",
       "heat       washroom    2565\n",
       "           none        2105\n",
       "lights     washroom    1397\n",
       "           kitchen     1326\n",
       "music      none        1326\n",
       "heat       bedroom     1303\n",
       "           kitchen     1282\n",
       "lights     bedroom     1109\n",
       "none       none         994\n",
       "lights     none         962\n",
       "lamp       none         792\n",
       "newspaper  none         551\n",
       "socks      none         538\n",
       "shoes      none         536\n",
       "juice      none         466\n",
       "Chinese    none         449\n",
       "English    none         349\n",
       "Korean     none         345\n",
       "German     none         342\n",
       "dtype: int64"
      ]
     },
     "execution_count": 32,
     "metadata": {},
     "output_type": "execute_result"
    }
   ],
   "source": [
    "fs_df[[\"object\", \"location\"]].value_counts()"
   ]
  },
  {
   "cell_type": "markdown",
   "id": "d2f43a79",
   "metadata": {},
   "source": []
  },
  {
   "cell_type": "markdown",
   "id": "7642f174",
   "metadata": {},
   "source": [
    "### `1.2) Data Exploration`"
   ]
  },
  {
   "cell_type": "code",
   "execution_count": 23,
   "id": "48b6602c",
   "metadata": {},
   "outputs": [],
   "source": [
    "data = fs_df[[\"transcription\", \"action\", \"object\", \"location\"]]"
   ]
  },
  {
   "cell_type": "code",
   "execution_count": 24,
   "id": "e5e9c540",
   "metadata": {},
   "outputs": [
    {
     "data": {
      "text/html": [
       "<div>\n",
       "<style scoped>\n",
       "    .dataframe tbody tr th:only-of-type {\n",
       "        vertical-align: middle;\n",
       "    }\n",
       "\n",
       "    .dataframe tbody tr th {\n",
       "        vertical-align: top;\n",
       "    }\n",
       "\n",
       "    .dataframe thead th {\n",
       "        text-align: right;\n",
       "    }\n",
       "</style>\n",
       "<table border=\"1\" class=\"dataframe\">\n",
       "  <thead>\n",
       "    <tr style=\"text-align: right;\">\n",
       "      <th></th>\n",
       "      <th>transcription</th>\n",
       "      <th>action</th>\n",
       "      <th>object</th>\n",
       "      <th>location</th>\n",
       "    </tr>\n",
       "  </thead>\n",
       "  <tbody>\n",
       "    <tr>\n",
       "      <th>0</th>\n",
       "      <td>Change language</td>\n",
       "      <td>change language</td>\n",
       "      <td>none</td>\n",
       "      <td>none</td>\n",
       "    </tr>\n",
       "    <tr>\n",
       "      <th>1</th>\n",
       "      <td>Resume</td>\n",
       "      <td>activate</td>\n",
       "      <td>music</td>\n",
       "      <td>none</td>\n",
       "    </tr>\n",
       "    <tr>\n",
       "      <th>2</th>\n",
       "      <td>Turn the lights on</td>\n",
       "      <td>activate</td>\n",
       "      <td>lights</td>\n",
       "      <td>none</td>\n",
       "    </tr>\n",
       "    <tr>\n",
       "      <th>3</th>\n",
       "      <td>Switch on the lights</td>\n",
       "      <td>activate</td>\n",
       "      <td>lights</td>\n",
       "      <td>none</td>\n",
       "    </tr>\n",
       "    <tr>\n",
       "      <th>4</th>\n",
       "      <td>Switch off the lights</td>\n",
       "      <td>deactivate</td>\n",
       "      <td>lights</td>\n",
       "      <td>none</td>\n",
       "    </tr>\n",
       "  </tbody>\n",
       "</table>\n",
       "</div>"
      ],
      "text/plain": [
       "           transcription           action  object location\n",
       "0        Change language  change language    none     none\n",
       "1                 Resume         activate   music     none\n",
       "2     Turn the lights on         activate  lights     none\n",
       "3   Switch on the lights         activate  lights     none\n",
       "4  Switch off the lights       deactivate  lights     none"
      ]
     },
     "execution_count": 24,
     "metadata": {},
     "output_type": "execute_result"
    }
   ],
   "source": [
    "data.head()"
   ]
  },
  {
   "cell_type": "code",
   "execution_count": 25,
   "id": "969485d8",
   "metadata": {},
   "outputs": [
    {
     "data": {
      "text/plain": [
       "increase           5953\n",
       "decrease           5697\n",
       "activate           3822\n",
       "deactivate         3090\n",
       "change language    2479\n",
       "bring              2091\n",
       "Name: action, dtype: int64"
      ]
     },
     "execution_count": 25,
     "metadata": {},
     "output_type": "execute_result"
    }
   ],
   "source": [
    "data[\"action\"].value_counts()"
   ]
  },
  {
   "cell_type": "code",
   "execution_count": 26,
   "id": "855ddbe3",
   "metadata": {},
   "outputs": [
    {
     "data": {
      "text/plain": [
       "heat         7255\n",
       "lights       4794\n",
       "volume       4395\n",
       "music        1326\n",
       "none          994\n",
       "lamp          792\n",
       "newspaper     551\n",
       "socks         538\n",
       "shoes         536\n",
       "juice         466\n",
       "Chinese       449\n",
       "English       349\n",
       "Korean        345\n",
       "German        342\n",
       "Name: object, dtype: int64"
      ]
     },
     "execution_count": 26,
     "metadata": {},
     "output_type": "execute_result"
    }
   ],
   "source": [
    "data[\"object\"].value_counts()"
   ]
  },
  {
   "cell_type": "code",
   "execution_count": 27,
   "id": "ab49134e",
   "metadata": {
    "scrolled": true
   },
   "outputs": [
    {
     "data": {
      "text/plain": [
       "none        14150\n",
       "washroom     3962\n",
       "kitchen      2608\n",
       "bedroom      2412\n",
       "Name: location, dtype: int64"
      ]
     },
     "execution_count": 27,
     "metadata": {},
     "output_type": "execute_result"
    }
   ],
   "source": [
    "data[\"location\"].value_counts()"
   ]
  },
  {
   "cell_type": "markdown",
   "id": "184b8fe3",
   "metadata": {},
   "source": [
    "### `1.3) Preprocessing`"
   ]
  },
  {
   "cell_type": "markdown",
   "id": "05a830c6",
   "metadata": {},
   "source": [
    "#### 1.3.1- text correction"
   ]
  },
  {
   "cell_type": "code",
   "execution_count": 39,
   "id": "e96cc199",
   "metadata": {},
   "outputs": [],
   "source": [
    "from textblob import TextBlob\n",
    "import re\n",
    "\n",
    "from nltk.corpus import stopwords\n",
    "STOPWORDS = set(stopwords.words('english'))\n",
    "\n",
    "from nltk.stem import WordNetLemmatizer\n",
    "from nltk.corpus import wordnet\n",
    "import nltk"
   ]
  },
  {
   "cell_type": "code",
   "execution_count": 40,
   "id": "04b8e7c3",
   "metadata": {},
   "outputs": [
    {
     "data": {
      "text/plain": [
       "'turn on the lights!'"
      ]
     },
     "execution_count": 40,
     "metadata": {},
     "output_type": "execute_result"
    }
   ],
   "source": [
    "txt = \"turn on the lights!\"\n",
    "txt = str(TextBlob(txt).correct())\n",
    "txt"
   ]
  },
  {
   "cell_type": "markdown",
   "id": "fa732055",
   "metadata": {},
   "source": [
    "#### 1.3.2- lowecase letters"
   ]
  },
  {
   "cell_type": "code",
   "execution_count": 41,
   "id": "5fb59fab",
   "metadata": {},
   "outputs": [
    {
     "data": {
      "text/plain": [
       "'for honor'"
      ]
     },
     "execution_count": 41,
     "metadata": {},
     "output_type": "execute_result"
    }
   ],
   "source": [
    "txt = \"For HoNOR\"\n",
    "txt = txt.lower().strip()\n",
    "txt"
   ]
  },
  {
   "cell_type": "markdown",
   "id": "9e5d393d",
   "metadata": {},
   "source": [
    "#### 1.3.3- remove stopwords"
   ]
  },
  {
   "cell_type": "code",
   "execution_count": 42,
   "id": "09cdceef",
   "metadata": {},
   "outputs": [
    {
     "data": {
      "text/plain": [
       "'say hi neighbor'"
      ]
     },
     "execution_count": 42,
     "metadata": {},
     "output_type": "execute_result"
    }
   ],
   "source": [
    "def remove_stopwords(text):\n",
    "    return \" \".join([word for word in str(text).split() if word not in STOPWORDS])\n",
    "\n",
    "txt = \"say hi to the neighbor\"\n",
    "txt = remove_stopwords(txt)\n",
    "txt"
   ]
  },
  {
   "cell_type": "markdown",
   "id": "1375cfdb",
   "metadata": {},
   "source": [
    "#### 1.3.4- lemmentization"
   ]
  },
  {
   "cell_type": "code",
   "execution_count": 43,
   "id": "c420aaff",
   "metadata": {},
   "outputs": [
    {
     "data": {
      "text/plain": [
       "'Ahmad be work on project'"
      ]
     },
     "execution_count": 43,
     "metadata": {},
     "output_type": "execute_result"
    }
   ],
   "source": [
    "lemmatizer = WordNetLemmatizer()\n",
    "wordnet_map = {\"N\":wordnet.NOUN, \"V\":wordnet.VERB, \"J\":wordnet.ADJ, \"R\":wordnet.ADV} \n",
    "# Pos tag, used Noun, Verb, Adjective and Adverb\n",
    "\n",
    "def lemmatize_words(text):\n",
    "    pos_tagged_text = nltk.pos_tag(text.split())\n",
    "#     print(pos_tagged_text)\n",
    "    return \" \".join([lemmatizer.lemmatize(word, wordnet_map.get(pos[0], wordnet.NOUN)) for word, pos in pos_tagged_text])\n",
    "\n",
    "txt = \"Ahmad is working on projects\"\n",
    "lemmatize_words(txt)"
   ]
  },
  {
   "cell_type": "markdown",
   "id": "1002138e",
   "metadata": {},
   "source": [
    "#### 1.3.5 apply text-cleaning methods\n"
   ]
  },
  {
   "cell_type": "code",
   "execution_count": 44,
   "id": "c7852fd0",
   "metadata": {},
   "outputs": [],
   "source": [
    "def text_clean(text):\n",
    "    text = text.lower().strip()\n",
    "    text = str(TextBlob(text).correct())\n",
    "    text = lemmatize_words(text)\n",
    "    text = remove_stopwords(text)\n",
    "    return text"
   ]
  },
  {
   "cell_type": "code",
   "execution_count": 45,
   "id": "35198bd1",
   "metadata": {
    "scrolled": true
   },
   "outputs": [
    {
     "name": "stderr",
     "output_type": "stream",
     "text": [
      "C:\\Users\\modaj\\AppData\\Local\\Temp\\ipykernel_589756\\3974121563.py:1: SettingWithCopyWarning: \n",
      "A value is trying to be set on a copy of a slice from a DataFrame.\n",
      "Try using .loc[row_indexer,col_indexer] = value instead\n",
      "\n",
      "See the caveats in the documentation: https://pandas.pydata.org/pandas-docs/stable/user_guide/indexing.html#returning-a-view-versus-a-copy\n",
      "  data[\"transcription_clean\"] = data[\"transcription\"].apply(lambda x: text_clean(x))\n"
     ]
    }
   ],
   "source": [
    "data[\"transcription_clean\"] = data[\"transcription\"].apply(lambda x: text_clean(x))"
   ]
  },
  {
   "cell_type": "markdown",
   "id": "8dc3b1ea",
   "metadata": {},
   "source": [
    "#### `1.3.6) TF-IDF`"
   ]
  },
  {
   "cell_type": "code",
   "execution_count": 46,
   "id": "747daa7a",
   "metadata": {
    "scrolled": true
   },
   "outputs": [],
   "source": [
    "from sklearn.feature_extraction.text import TfidfVectorizer\n",
    "\n",
    "from sklearn import preprocessing"
   ]
  },
  {
   "cell_type": "code",
   "execution_count": 47,
   "id": "3326abbc",
   "metadata": {},
   "outputs": [],
   "source": [
    "tfidf_vectorizer = TfidfVectorizer()"
   ]
  },
  {
   "cell_type": "code",
   "execution_count": 48,
   "id": "3f494615",
   "metadata": {},
   "outputs": [],
   "source": [
    "values = tfidf_vectorizer.fit_transform(data[\"transcription_clean\"] )\n",
    "# tfidf_feature_names = tfidf_vectorizer.get_feature_names()\n",
    "# tfidf_df = pd.DataFrame(values.toarray(), columns = tfidf_feature_names)\n",
    "# tfidf_df"
   ]
  },
  {
   "cell_type": "code",
   "execution_count": 28,
   "id": "79adadec",
   "metadata": {},
   "outputs": [],
   "source": [
    "# tfidf_vectorizer.get_feature_names_out()"
   ]
  },
  {
   "cell_type": "code",
   "execution_count": 29,
   "id": "eb78f1a8",
   "metadata": {},
   "outputs": [],
   "source": [
    "# tfidf_feature_names = tfidf_vectorizer.get_feature_names_out()\n",
    "# tfidf_df = pd.DataFrame(values.toarray(), columns = tfidf_feature_names)\n",
    "# tfidf_df"
   ]
  },
  {
   "cell_type": "markdown",
   "id": "9a60a3cf",
   "metadata": {},
   "source": [
    "#### `1.3.7) encoding categorical features`"
   ]
  },
  {
   "cell_type": "code",
   "execution_count": 51,
   "id": "383b4cf7",
   "metadata": {},
   "outputs": [],
   "source": [
    "le = preprocessing.LabelEncoder()"
   ]
  },
  {
   "cell_type": "code",
   "execution_count": 52,
   "id": "460156ac",
   "metadata": {},
   "outputs": [],
   "source": [
    "X = values\n",
    "\n",
    "le_action = preprocessing.LabelEncoder()\n",
    "le_object = preprocessing.LabelEncoder()\n",
    "le_location = preprocessing.LabelEncoder()\n",
    "y_action, y_object, y_location = le_action.fit_transform(data[\"action\"]),\\\n",
    "                                                  le_object.fit_transform(data[\"object\"]),\\\n",
    "                                                  le_location.fit_transform(data[\"location\"])\n",
    "\n",
    "# le_action.inverse_transform(y_action)"
   ]
  },
  {
   "cell_type": "code",
   "execution_count": 53,
   "id": "5e255157",
   "metadata": {},
   "outputs": [
    {
     "name": "stderr",
     "output_type": "stream",
     "text": [
      "C:\\Users\\modaj\\AppData\\Local\\Temp\\ipykernel_589756\\1416426773.py:1: SettingWithCopyWarning: \n",
      "A value is trying to be set on a copy of a slice from a DataFrame.\n",
      "Try using .loc[row_indexer,col_indexer] = value instead\n",
      "\n",
      "See the caveats in the documentation: https://pandas.pydata.org/pandas-docs/stable/user_guide/indexing.html#returning-a-view-versus-a-copy\n",
      "  data[\"state\"] = data[\"action\"] + \"-\" + data[\"object\"] + \"-\" + data[\"location\"]\n"
     ]
    }
   ],
   "source": [
    "data[\"state\"] = data[\"action\"] + \"-\" + data[\"object\"] + \"-\" + data[\"location\"]\n",
    "y_state = le.fit_transform(data[\"state\"])"
   ]
  },
  {
   "cell_type": "markdown",
   "id": "ddded068",
   "metadata": {},
   "source": [
    "### `1.4) Training`"
   ]
  },
  {
   "cell_type": "code",
   "execution_count": 1,
   "id": "970ae1d3",
   "metadata": {},
   "outputs": [],
   "source": [
    "from sklearn.naive_bayes import MultinomialNB\n",
    "from sklearn.linear_model import SGDClassifier\n",
    "from sklearn.linear_model import LogisticRegression\n",
    "from sklearn.model_selection import train_test_split\n",
    "from sklearn.metrics import accuracy_score"
   ]
  },
  {
   "cell_type": "markdown",
   "id": "b047ad1c",
   "metadata": {},
   "source": [
    "#### 1.4.1 choosing best model"
   ]
  },
  {
   "cell_type": "code",
   "execution_count": null,
   "id": "1ddd4164",
   "metadata": {},
   "outputs": [],
   "source": [
    "# Model definitions\n",
    "MultinomialNB_model = MultinomialNB(alpha=0.1, class_prior=None, fit_prior=True)\n",
    "LogReg_model = LogisticRegression()\n",
    "SGDClassifier_model = SGDClassifier(class_weight='balanced', penalty='l1')\n",
    "\n",
    "models = [MultinomialNB_model, LogReg_model, SGDClassifier_model]\n",
    "model_names = ['MultinomialNB', 'LogisticRegression', 'SGDClassifier']\n",
    "\n",
    "def train_and_evaluate(X, y, label_col='y'):\n",
    "    def train_models(X_tr, X_te, y_tr, y_te):\n",
    "        for i, model in enumerate(models):\n",
    "            print(f\"Model: {model_names[i]}\")\n",
    "            model.fit(X_tr, y_tr)\n",
    "            y_pred = model.predict(X_te)\n",
    "            print('accuracy %s' % accuracy_score(y_te, y_pred))\n",
    "            print()\n",
    "    print(\"----training on data with labels for column: {}----\".format(label_col))\n",
    "        \n",
    "    X_train, X_test, y_train, y_test = train_test_split(X, y, test_size=0.2, random_state=110 , stratify=y)\n",
    "    train_models(X_train, X_test, y_train, y_test)\n",
    "    print(\"-\" * 100)\n",
    "    print()\n",
    "    "
   ]
  },
  {
   "cell_type": "code",
   "execution_count": null,
   "id": "c19b0d7b",
   "metadata": {},
   "outputs": [],
   "source": [
    "# training + simple evaluation\n",
    "train_and_evaluate(X, y_action, \"action\")\n",
    "train_and_evaluate(X, y_object, \"object\")\n",
    "train_and_evaluate(X, y_location, \"location\")\n",
    "train_and_evaluate(X, y_state, \"state\")"
   ]
  },
  {
   "cell_type": "markdown",
   "id": "d9d566af",
   "metadata": {},
   "source": [
    "`Evaluation`: Logisitic Regression is the best model in terms of its simplicity and accuracy"
   ]
  },
  {
   "cell_type": "code",
   "execution_count": null,
   "id": "6a05e91c",
   "metadata": {},
   "outputs": [],
   "source": [
    "# Train Final Model\n",
    "y_intents = [y_action, y_object, y_location]\n",
    "y_intents = {\"action\": y_action, \"object\": y_object, \"location\": y_location}\n",
    "les = {\"action\": le_action, \"object\": le_object, \"location\": le_location}\n",
    "intent_models = {}\n",
    "X = values\n",
    "classes = []\n",
    "\n",
    "for intent, y_intent in y_intents.items():\n",
    "    print(\"column: {}\".format(intent))\n",
    "    LogReg_model = LogisticRegression()\n",
    "    X_train, X_test, y_train, y_test = train_test_split(X, y_intent, test_size=0.2, random_state=110 , stratify=y_intent)\n",
    "    LogReg_model.fit(X_train, y_train)\n",
    "    y_pred = LogReg_model.predict(X_test)\n",
    "    intent_models[intent] = LogReg_model\n",
    "    print('accuracy %s' % accuracy_score(y_test, y_pred))\n",
    "    print()"
   ]
  },
  {
   "cell_type": "markdown",
   "id": "b3ab0fdb",
   "metadata": {},
   "source": [
    "### `1.5) Applying Model`"
   ]
  },
  {
   "cell_type": "markdown",
   "id": "a0de78e3",
   "metadata": {},
   "source": [
    "the model trained (logistic regression) is going to be applied in transcripted text for implementation and testing purposes "
   ]
  },
  {
   "cell_type": "code",
   "execution_count": 158,
   "id": "c8135540",
   "metadata": {},
   "outputs": [
    {
     "data": {
      "text/plain": [
       "{'action': 'deactivate', 'object': 'volume', 'location': 'none'}"
      ]
     },
     "execution_count": 158,
     "metadata": {},
     "output_type": "execute_result"
    }
   ],
   "source": [
    "# apply intent classification\n",
    "transcript_eg = \"Switch on the lights\"\n",
    "\n",
    "def get_intents(transcript):\n",
    "    transcript = tfidf_vectorizer.transform([transcript])\n",
    "    action_pred = les[\"action\"].inverse_transform(intent_models[\"action\"].predict(transcript))[0]\n",
    "    object_pred = les[\"object\"].inverse_transform(intent_models[\"object\"].predict(transcript))[0]\n",
    "    location_pred = les[\"location\"].inverse_transform(intent_models[\"location\"].predict(transcript))[0]\n",
    "    \n",
    "    return {\"action\": action_pred, \"object\": object_pred, \"location\": location_pred}\n",
    "\n",
    "get_intents(transcript_eg)"
   ]
  },
  {
   "cell_type": "markdown",
   "id": "74a864c2",
   "metadata": {},
   "source": [
    "# `2) Non-Task Oriented NLU`"
   ]
  },
  {
   "cell_type": "code",
   "execution_count": 2,
   "id": "d64c4808",
   "metadata": {},
   "outputs": [],
   "source": [
    "from transformers import pipeline, Conversation"
   ]
  },
  {
   "cell_type": "markdown",
   "id": "993acba9",
   "metadata": {},
   "source": [
    "### `2.1) Zero-Shot Classification`"
   ]
  },
  {
   "cell_type": "code",
   "execution_count": 48,
   "id": "b3e3a162",
   "metadata": {},
   "outputs": [],
   "source": [
    "query_test = \"turn on the lights\"\n",
    "discourse_labels = [\"conversational\", \"command\"]\n",
    "\n",
    "classifier = pipeline(\"zero-shot-classification\",\n",
    "                      model=\"facebook/bart-large-mnli\")"
   ]
  },
  {
   "cell_type": "code",
   "execution_count": 53,
   "id": "fa48d47a",
   "metadata": {},
   "outputs": [
    {
     "data": {
      "text/plain": [
       "{'sequence': 'turn on the lights',\n",
       " 'labels': ['command', 'conversational'],\n",
       " 'scores': [0.9863330125808716, 0.013666972517967224]}"
      ]
     },
     "execution_count": 53,
     "metadata": {},
     "output_type": "execute_result"
    }
   ],
   "source": [
    "zsc_result = classifier(query_test, Discourse)\n",
    "zsc_labels = zsc_result[\"labels\"]  \n",
    "zsc_scores = zsc_result[\"scores\"]\n",
    "zsc_result"
   ]
  },
  {
   "cell_type": "markdown",
   "id": "d78f6460",
   "metadata": {},
   "source": [
    "`Note` we use 'zsc_labels' instead of 'classifier' list because the order of classes used might change after using classifier"
   ]
  },
  {
   "cell_type": "code",
   "execution_count": 54,
   "id": "2129f970",
   "metadata": {},
   "outputs": [
    {
     "data": {
      "text/plain": [
       "'command'"
      ]
     },
     "execution_count": 54,
     "metadata": {},
     "output_type": "execute_result"
    }
   ],
   "source": [
    "discourse_prediction = zsc_labels[zsc_scores.index(max(zsc_scores))]\n",
    "discourse_prediction"
   ]
  },
  {
   "cell_type": "markdown",
   "id": "352f09ed",
   "metadata": {},
   "source": [
    "### `2.2) Conversational`"
   ]
  },
  {
   "cell_type": "code",
   "execution_count": 55,
   "id": "55d19f1d",
   "metadata": {},
   "outputs": [
    {
     "data": {
      "application/vnd.jupyter.widget-view+json": {
       "model_id": "addeac64af6745af9979e8df83efb836",
       "version_major": 2,
       "version_minor": 0
      },
      "text/plain": [
       "Downloading:   0%|          | 0.00/1.57k [00:00<?, ?B/s]"
      ]
     },
     "metadata": {},
     "output_type": "display_data"
    },
    {
     "data": {
      "application/vnd.jupyter.widget-view+json": {
       "model_id": "defd4d2c687e47eb9e5e8f7de25ce2ba",
       "version_major": 2,
       "version_minor": 0
      },
      "text/plain": [
       "Downloading:   0%|          | 0.00/730M [00:00<?, ?B/s]"
      ]
     },
     "metadata": {},
     "output_type": "display_data"
    },
    {
     "data": {
      "application/vnd.jupyter.widget-view+json": {
       "model_id": "425f6163bd12412aa7fe17dce6f37697",
       "version_major": 2,
       "version_minor": 0
      },
      "text/plain": [
       "Downloading:   0%|          | 0.00/1.15k [00:00<?, ?B/s]"
      ]
     },
     "metadata": {},
     "output_type": "display_data"
    },
    {
     "data": {
      "application/vnd.jupyter.widget-view+json": {
       "model_id": "0999047d3f9f4ec696d2b79b6c3323f6",
       "version_major": 2,
       "version_minor": 0
      },
      "text/plain": [
       "Downloading:   0%|          | 0.00/127k [00:00<?, ?B/s]"
      ]
     },
     "metadata": {},
     "output_type": "display_data"
    },
    {
     "data": {
      "application/vnd.jupyter.widget-view+json": {
       "model_id": "b8ae19739efa412893c60f96de391c08",
       "version_major": 2,
       "version_minor": 0
      },
      "text/plain": [
       "Downloading:   0%|          | 0.00/62.9k [00:00<?, ?B/s]"
      ]
     },
     "metadata": {},
     "output_type": "display_data"
    },
    {
     "data": {
      "application/vnd.jupyter.widget-view+json": {
       "model_id": "ccd5dad155e649e9bf390d012dd961b3",
       "version_major": 2,
       "version_minor": 0
      },
      "text/plain": [
       "Downloading:   0%|          | 0.00/16.0 [00:00<?, ?B/s]"
      ]
     },
     "metadata": {},
     "output_type": "display_data"
    },
    {
     "data": {
      "application/vnd.jupyter.widget-view+json": {
       "model_id": "3c79f226417947da83cf1c56f2a6886d",
       "version_major": 2,
       "version_minor": 0
      },
      "text/plain": [
       "Downloading:   0%|          | 0.00/772 [00:00<?, ?B/s]"
      ]
     },
     "metadata": {},
     "output_type": "display_data"
    }
   ],
   "source": [
    "converser = pipeline(\"conversational\",\n",
    "                      model=\"facebook/blenderbot-400M-distill\")"
   ]
  },
  {
   "cell_type": "code",
   "execution_count": 65,
   "id": "5a054233",
   "metadata": {},
   "outputs": [],
   "source": [
    "query_test = \"hi, how are you?\"\n",
    "conversation = Conversation(query_test)"
   ]
  },
  {
   "cell_type": "code",
   "execution_count": 66,
   "id": "a903fdaf",
   "metadata": {},
   "outputs": [
    {
     "data": {
      "text/plain": [
       "\" I'm doing well, thank you. How are you this fine evening? I hope you are as well.\""
      ]
     },
     "execution_count": 66,
     "metadata": {},
     "output_type": "execute_result"
    }
   ],
   "source": [
    "response = converser(conversation).generated_responses[-1]\n",
    "response"
   ]
  },
  {
   "cell_type": "markdown",
   "id": "4847a010",
   "metadata": {},
   "source": [
    "### `2.3) Rephrasing`"
   ]
  },
  {
   "cell_type": "code",
   "execution_count": 9,
   "id": "77a8d9fd",
   "metadata": {},
   "outputs": [
    {
     "data": {
      "application/vnd.jupyter.widget-view+json": {
       "model_id": "38a1aa44fca340119e68fb0ef3a20fa2",
       "version_major": 2,
       "version_minor": 0
      },
      "text/plain": [
       "Downloading:   0%|          | 0.00/913 [00:00<?, ?B/s]"
      ]
     },
     "metadata": {},
     "output_type": "display_data"
    },
    {
     "data": {
      "application/vnd.jupyter.widget-view+json": {
       "model_id": "21d52222e18b4799ad54ec07eae16a9b",
       "version_major": 2,
       "version_minor": 0
      },
      "text/plain": [
       "Downloading:   0%|          | 0.00/1.42G [00:00<?, ?B/s]"
      ]
     },
     "metadata": {},
     "output_type": "display_data"
    },
    {
     "data": {
      "application/vnd.jupyter.widget-view+json": {
       "model_id": "556ca50d1deb4d7e8a3ef169b74cedfb",
       "version_major": 2,
       "version_minor": 0
      },
      "text/plain": [
       "Downloading:   0%|          | 0.00/899k [00:00<?, ?B/s]"
      ]
     },
     "metadata": {},
     "output_type": "display_data"
    },
    {
     "data": {
      "application/vnd.jupyter.widget-view+json": {
       "model_id": "ca2d8ac2aadb4bc99d5433b8f9e9f1b4",
       "version_major": 2,
       "version_minor": 0
      },
      "text/plain": [
       "Downloading:   0%|          | 0.00/456k [00:00<?, ?B/s]"
      ]
     },
     "metadata": {},
     "output_type": "display_data"
    },
    {
     "data": {
      "application/vnd.jupyter.widget-view+json": {
       "model_id": "f8f3eb458b4f4866aeb560d56174eed2",
       "version_major": 2,
       "version_minor": 0
      },
      "text/plain": [
       "Downloading:   0%|          | 0.00/1.36M [00:00<?, ?B/s]"
      ]
     },
     "metadata": {},
     "output_type": "display_data"
    },
    {
     "data": {
      "application/vnd.jupyter.widget-view+json": {
       "model_id": "1fb2229993da4b449cc6cd9ddc2edb3a",
       "version_major": 2,
       "version_minor": 0
      },
      "text/plain": [
       "Downloading:   0%|          | 0.00/772 [00:00<?, ?B/s]"
      ]
     },
     "metadata": {},
     "output_type": "display_data"
    },
    {
     "data": {
      "application/vnd.jupyter.widget-view+json": {
       "model_id": "dd29937342724031adefbb5411401423",
       "version_major": 2,
       "version_minor": 0
      },
      "text/plain": [
       "Downloading:   0%|          | 0.00/476 [00:00<?, ?B/s]"
      ]
     },
     "metadata": {},
     "output_type": "display_data"
    },
    {
     "data": {
      "application/vnd.jupyter.widget-view+json": {
       "model_id": "d934fcfccb674b4a9328c926da1c6c08",
       "version_major": 2,
       "version_minor": 0
      },
      "text/plain": [
       "Downloading:   0%|          | 0.00/438M [00:00<?, ?B/s]"
      ]
     },
     "metadata": {},
     "output_type": "display_data"
    },
    {
     "data": {
      "application/vnd.jupyter.widget-view+json": {
       "model_id": "a98de4c2fab64c96b42fbbe88ab4d340",
       "version_major": 2,
       "version_minor": 0
      },
      "text/plain": [
       "Downloading:   0%|          | 0.00/48.0 [00:00<?, ?B/s]"
      ]
     },
     "metadata": {},
     "output_type": "display_data"
    },
    {
     "data": {
      "application/vnd.jupyter.widget-view+json": {
       "model_id": "fa69e6fdf0844f138391ba81a7bfb799",
       "version_major": 2,
       "version_minor": 0
      },
      "text/plain": [
       "Downloading:   0%|          | 0.00/232k [00:00<?, ?B/s]"
      ]
     },
     "metadata": {},
     "output_type": "display_data"
    },
    {
     "data": {
      "application/vnd.jupyter.widget-view+json": {
       "model_id": "5d219b7f06774c5586ccea970d5c0f2a",
       "version_major": 2,
       "version_minor": 0
      },
      "text/plain": [
       "Downloading:   0%|          | 0.00/112 [00:00<?, ?B/s]"
      ]
     },
     "metadata": {},
     "output_type": "display_data"
    },
    {
     "data": {
      "application/vnd.jupyter.widget-view+json": {
       "model_id": "7f4fb6bd3acc487dbd78b4c6a694a361",
       "version_major": 2,
       "version_minor": 0
      },
      "text/plain": [
       "Downloading:   0%|          | 0.00/736 [00:00<?, ?B/s]"
      ]
     },
     "metadata": {},
     "output_type": "display_data"
    },
    {
     "data": {
      "application/vnd.jupyter.widget-view+json": {
       "model_id": "5e3a73192a2b49bba99603343855f1f1",
       "version_major": 2,
       "version_minor": 0
      },
      "text/plain": [
       "Downloading:   0%|          | 0.00/190 [00:00<?, ?B/s]"
      ]
     },
     "metadata": {},
     "output_type": "display_data"
    },
    {
     "data": {
      "application/vnd.jupyter.widget-view+json": {
       "model_id": "48904c41850d4ed1bb180d8ada4258ab",
       "version_major": 2,
       "version_minor": 0
      },
      "text/plain": [
       "Downloading:   0%|          | 0.00/3.74k [00:00<?, ?B/s]"
      ]
     },
     "metadata": {},
     "output_type": "display_data"
    },
    {
     "data": {
      "application/vnd.jupyter.widget-view+json": {
       "model_id": "035c017280ec4563afd11ede5f5b7e80",
       "version_major": 2,
       "version_minor": 0
      },
      "text/plain": [
       "Downloading:   0%|          | 0.00/686 [00:00<?, ?B/s]"
      ]
     },
     "metadata": {},
     "output_type": "display_data"
    },
    {
     "data": {
      "application/vnd.jupyter.widget-view+json": {
       "model_id": "1242ce4c69f740b89b2886352c076e74",
       "version_major": 2,
       "version_minor": 0
      },
      "text/plain": [
       "Downloading:   0%|          | 0.00/122 [00:00<?, ?B/s]"
      ]
     },
     "metadata": {},
     "output_type": "display_data"
    },
    {
     "data": {
      "application/vnd.jupyter.widget-view+json": {
       "model_id": "98e3c74968284cbca1749bbf756d8f85",
       "version_major": 2,
       "version_minor": 0
      },
      "text/plain": [
       "Downloading:   0%|          | 0.00/456k [00:00<?, ?B/s]"
      ]
     },
     "metadata": {},
     "output_type": "display_data"
    },
    {
     "data": {
      "application/vnd.jupyter.widget-view+json": {
       "model_id": "9ad82de118c34914bc6ed3df0c61ac8c",
       "version_major": 2,
       "version_minor": 0
      },
      "text/plain": [
       "Downloading:   0%|          | 0.00/329M [00:00<?, ?B/s]"
      ]
     },
     "metadata": {},
     "output_type": "display_data"
    },
    {
     "data": {
      "application/vnd.jupyter.widget-view+json": {
       "model_id": "2991a156dea34d99b06dbc20cbfa5cb4",
       "version_major": 2,
       "version_minor": 0
      },
      "text/plain": [
       "Downloading:   0%|          | 0.00/53.0 [00:00<?, ?B/s]"
      ]
     },
     "metadata": {},
     "output_type": "display_data"
    },
    {
     "data": {
      "application/vnd.jupyter.widget-view+json": {
       "model_id": "79a4fe72dece4cd4aeef03654ae679ee",
       "version_major": 2,
       "version_minor": 0
      },
      "text/plain": [
       "Downloading:   0%|          | 0.00/239 [00:00<?, ?B/s]"
      ]
     },
     "metadata": {},
     "output_type": "display_data"
    },
    {
     "data": {
      "application/vnd.jupyter.widget-view+json": {
       "model_id": "38ee0b4b6c8740aa9f92295bd5dae501",
       "version_major": 2,
       "version_minor": 0
      },
      "text/plain": [
       "Downloading:   0%|          | 0.00/1.36M [00:00<?, ?B/s]"
      ]
     },
     "metadata": {},
     "output_type": "display_data"
    },
    {
     "data": {
      "application/vnd.jupyter.widget-view+json": {
       "model_id": "6dc293e27cfb457cb1a1822d6b8bd6ec",
       "version_major": 2,
       "version_minor": 0
      },
      "text/plain": [
       "Downloading:   0%|          | 0.00/1.12k [00:00<?, ?B/s]"
      ]
     },
     "metadata": {},
     "output_type": "display_data"
    },
    {
     "data": {
      "application/vnd.jupyter.widget-view+json": {
       "model_id": "024693730baa4bffbcce8ce4560e4696",
       "version_major": 2,
       "version_minor": 0
      },
      "text/plain": [
       "Downloading:   0%|          | 0.00/798k [00:00<?, ?B/s]"
      ]
     },
     "metadata": {},
     "output_type": "display_data"
    },
    {
     "data": {
      "application/vnd.jupyter.widget-view+json": {
       "model_id": "6dafc0d8264346f28fc5eb84f30ed239",
       "version_major": 2,
       "version_minor": 0
      },
      "text/plain": [
       "Downloading:   0%|          | 0.00/229 [00:00<?, ?B/s]"
      ]
     },
     "metadata": {},
     "output_type": "display_data"
    },
    {
     "name": "stdout",
     "output_type": "stream",
     "text": [
      "----------------------------------------------------------------------------------------------------\n",
      "Input_phrase:  Can you recommed some upscale restaurants in Newyork?\n",
      "----------------------------------------------------------------------------------------------------\n",
      "('can you recommend some of the finest restaurants in new york?', 26)\n",
      "('can you recommend some restaurants in new york?', 22)\n",
      "('can you recommend some good restaurants in new york?', 21)\n",
      "('can you recommend some upscale restaurants in new york?', 14)\n",
      "('can you recommend some upscale restaurants in newyork?', 13)\n",
      "----------------------------------------------------------------------------------------------------\n",
      "Input_phrase:  What are the famous places we should not miss in Russia?\n",
      "----------------------------------------------------------------------------------------------------\n",
      "('recommend some of the famous places to be visited in russia?', 33)\n",
      "('which are some places we should not miss in russia?', 23)\n"
     ]
    }
   ],
   "source": [
    "from parrot import Parrot\n",
    "import torch\n",
    "import warnings\n",
    "warnings.filterwarnings(\"ignore\")\n",
    "\n",
    "''' \n",
    "uncomment to get reproducable paraphrase generations\n",
    "def random_state(seed):\n",
    "  torch.manual_seed(seed)\n",
    "  if torch.cuda.is_available():\n",
    "    torch.cuda.manual_seed_all(seed)\n",
    "\n",
    "random_state(1234)\n",
    "'''\n",
    "\n",
    "#Init models (make sure you init ONLY once if you integrate this to your code)\n",
    "parrot = Parrot(model_tag=\"prithivida/parrot_paraphraser_on_T5\", use_gpu=False)"
   ]
  },
  {
   "cell_type": "code",
   "execution_count": null,
   "id": "d2acddb2",
   "metadata": {},
   "outputs": [],
   "source": [
    "phrases = [\"Can you recommed some upscale restaurants in Newyork?\",\n",
    "           \"What are the famous places we should not miss in Russia?\"\n",
    "]\n",
    "\n",
    "for phrase in phrases:\n",
    "    print(\"-\"*100)\n",
    "    print(\"Input_phrase: \", phrase)\n",
    "    print(\"-\"*100)\n",
    "    para_phrases = parrot.augment(input_phrase=phrase)\n",
    "    for para_phrase in para_phrases:\n",
    "        print(para_phrase)\n"
   ]
  },
  {
   "cell_type": "code",
   "execution_count": 3,
   "id": "f0fb372c",
   "metadata": {
    "scrolled": true
   },
   "outputs": [],
   "source": [
    "rephraser = pipeline(\"text2text-generation\",\n",
    "                      model=\"prithivida/parrot_paraphraser_on_T5\")"
   ]
  },
  {
   "cell_type": "code",
   "execution_count": 8,
   "id": "e1c18d70",
   "metadata": {},
   "outputs": [
    {
     "data": {
      "text/plain": [
       "[{'generated_text': 'What do you think of the recent events in new yourk?'}]"
      ]
     },
     "execution_count": 8,
     "metadata": {},
     "output_type": "execute_result"
    }
   ],
   "source": [
    "query_test = \"what do you think of the recent events that transpired in new yourk?\"\n",
    "\n",
    "rephraser(query_test)"
   ]
  },
  {
   "cell_type": "markdown",
   "id": "ded4e891",
   "metadata": {},
   "source": [
    "### `2.4) story telling`"
   ]
  },
  {
   "cell_type": "code",
   "execution_count": 8,
   "id": "354093f3",
   "metadata": {},
   "outputs": [],
   "source": [
    "from transformers import pipeline"
   ]
  },
  {
   "cell_type": "code",
   "execution_count": 11,
   "id": "fe8bba0d",
   "metadata": {
    "scrolled": true
   },
   "outputs": [
    {
     "name": "stderr",
     "output_type": "stream",
     "text": [
      "Setting `pad_token_id` to `eos_token_id`:50256 for open-end generation.\n"
     ]
    },
    {
     "name": "stdout",
     "output_type": "stream",
     "text": [
      "[{'generated_text': '<BOS> <superhero> Batman and Robin, along with Professor Charles Xavier\\'s X-Men, raid an underground facility that holds the mutant \"Quicksilver\". The group includes the superpowered Jean Grey, Iceman, Scarlet Witch, Magik, Sabret'}]\n"
     ]
    }
   ],
   "source": [
    "story_gen = pipeline(\"text-generation\", \"pranavpsv/gpt2-genre-story-generator\")\n",
    "print(story_gen(\"<BOS> <superhero> Batman\"))"
   ]
  },
  {
   "cell_type": "markdown",
   "id": "3f3937bf",
   "metadata": {},
   "source": [
    "### `2.5) automatic keyword extraction`"
   ]
  },
  {
   "cell_type": "code",
   "execution_count": 1,
   "id": "89a88c62",
   "metadata": {},
   "outputs": [],
   "source": [
    "from transformers import AutoTokenizer, AutoModelForTokenClassification"
   ]
  },
  {
   "cell_type": "code",
   "execution_count": 11,
   "id": "1d8d93e3",
   "metadata": {},
   "outputs": [],
   "source": [
    "# keyword_tokenizer = AutoTokenizer.from_pretrained(\"yanekyuk/bert-uncased-keyword-extractor\")\n",
    "keyword_extractor = pipeline(\"token-classification\", model=\"yanekyuk/bert-uncased-keyword-extractor\")"
   ]
  },
  {
   "cell_type": "code",
   "execution_count": 17,
   "id": "0a5fc6d4",
   "metadata": {},
   "outputs": [],
   "source": [
    "sentence = \"do you know new york jets?\"\n",
    "keywords = keyword_extractor(sentence)"
   ]
  },
  {
   "cell_type": "code",
   "execution_count": 18,
   "id": "a5b0e5dc",
   "metadata": {},
   "outputs": [
    {
     "data": {
      "text/plain": [
       "[{'entity': 'B-KEY',\n",
       "  'score': 0.9975394,\n",
       "  'index': 4,\n",
       "  'word': 'new',\n",
       "  'start': 12,\n",
       "  'end': 15},\n",
       " {'entity': 'I-KEY',\n",
       "  'score': 0.9922999,\n",
       "  'index': 5,\n",
       "  'word': 'york',\n",
       "  'start': 16,\n",
       "  'end': 20},\n",
       " {'entity': 'I-KEY',\n",
       "  'score': 0.9709819,\n",
       "  'index': 6,\n",
       "  'word': 'jets',\n",
       "  'start': 21,\n",
       "  'end': 25}]"
      ]
     },
     "execution_count": 18,
     "metadata": {},
     "output_type": "execute_result"
    }
   ],
   "source": [
    "keywords"
   ]
  },
  {
   "cell_type": "markdown",
   "id": "794242f3",
   "metadata": {},
   "source": [
    "---"
   ]
  },
  {
   "cell_type": "markdown",
   "id": "62e318cd",
   "metadata": {},
   "source": [
    "# `3) using source code (src)`"
   ]
  },
  {
   "cell_type": "markdown",
   "id": "3b9b26bd",
   "metadata": {},
   "source": [
    "--> **implementing with scripts written in src folder**"
   ]
  },
  {
   "cell_type": "markdown",
   "id": "83016f1b",
   "metadata": {},
   "source": [
    "### `3.1) src implementation` - training"
   ]
  },
  {
   "cell_type": "code",
   "execution_count": 1,
   "id": "2f6a4a41",
   "metadata": {},
   "outputs": [],
   "source": [
    "import pandas as pd\n",
    "from src.NLU.preprocess import prepare_data, get_tfidf, encode_label, split\n",
    "from src.NLU.intention import IntentRecognizer\n",
    "import pickle"
   ]
  },
  {
   "cell_type": "code",
   "execution_count": 2,
   "id": "1601b23f",
   "metadata": {},
   "outputs": [],
   "source": [
    "fs_df = pd.read_csv('Data/fluent_speech_commands_dataset/data/train_data.csv', delimiter=',')"
   ]
  },
  {
   "cell_type": "code",
   "execution_count": 3,
   "id": "7e504293",
   "metadata": {},
   "outputs": [
    {
     "name": "stderr",
     "output_type": "stream",
     "text": [
      "C:\\Users\\modaj\\OneDrive\\Documents\\Personal\\Uni\\NLP\\project\\src\\NLU\\preprocess.py:40: SettingWithCopyWarning: \n",
      "A value is trying to be set on a copy of a slice from a DataFrame.\n",
      "Try using .loc[row_indexer,col_indexer] = value instead\n",
      "\n",
      "See the caveats in the documentation: https://pandas.pydata.org/pandas-docs/stable/user_guide/indexing.html#returning-a-view-versus-a-copy\n",
      "  data[\"transcription_clean\"] = data[\"transcription\"].apply(lambda x: text_clean(x))\n"
     ]
    }
   ],
   "source": [
    "fs_df_clean = prepare_data(fs_df)"
   ]
  },
  {
   "cell_type": "code",
   "execution_count": 4,
   "id": "80cf53f6",
   "metadata": {},
   "outputs": [],
   "source": [
    "X, tfidf_vectorizer = get_tfidf(fs_df_clean[\"transcription_clean\"])"
   ]
  },
  {
   "cell_type": "code",
   "execution_count": 5,
   "id": "676b6f74",
   "metadata": {},
   "outputs": [
    {
     "name": "stdout",
     "output_type": "stream",
     "text": [
      "{'action': LabelEncoder(), 'object': LabelEncoder(), 'location': LabelEncoder()}\n",
      "{'action': array([2, 0, 0, ..., 2, 2, 3]), 'object': array([10,  8,  7, ...,  3,  1,  7]), 'location': array([2, 2, 2, ..., 2, 2, 3])}\n"
     ]
    }
   ],
   "source": [
    "les = {}\n",
    "ys = {}\n",
    "ys[\"action\"], les[\"action\"] = encode_label(fs_df_clean[\"action\"])\n",
    "ys[\"object\"], les[\"object\"] = encode_label(fs_df_clean[\"object\"])\n",
    "ys[\"location\"], les[\"location\"] = encode_label(fs_df_clean[\"location\"])\n",
    "\n",
    "print(les)\n",
    "print(ys)"
   ]
  },
  {
   "cell_type": "code",
   "execution_count": 6,
   "id": "d0d2fd78",
   "metadata": {},
   "outputs": [],
   "source": [
    "ir = IntentRecognizer()"
   ]
  },
  {
   "cell_type": "code",
   "execution_count": 7,
   "id": "036a894c",
   "metadata": {},
   "outputs": [
    {
     "name": "stdout",
     "output_type": "stream",
     "text": [
      "intent: action\n",
      "accuracy 1.0\n",
      "--------------------------------------------------\n",
      "intent: object\n",
      "accuracy 1.0\n",
      "--------------------------------------------------\n",
      "intent: location\n",
      "accuracy 1.0\n",
      "--------------------------------------------------\n"
     ]
    }
   ],
   "source": [
    "for intent, y_intent in ys.items():\n",
    "    print(\"intent: {}\".format(intent))\n",
    "    X_train, X_test, ys_train, ys_test = split(X, ys[intent], test_size=0.2, stratify=True)\n",
    "    \n",
    "    ir.learn_intents(X_train, ys_train, intent)\n",
    "    ir.evaluate(X_test, ys_test, intent)\n",
    "    print(\"-\" * 50)\n",
    "    "
   ]
  },
  {
   "cell_type": "code",
   "execution_count": 8,
   "id": "a9c1a571",
   "metadata": {},
   "outputs": [
    {
     "data": {
      "text/plain": [
       "{'action': LogisticRegression(),\n",
       " 'object': LogisticRegression(),\n",
       " 'location': LogisticRegression()}"
      ]
     },
     "execution_count": 8,
     "metadata": {},
     "output_type": "execute_result"
    }
   ],
   "source": [
    "ir.intent_models"
   ]
  },
  {
   "cell_type": "code",
   "execution_count": 9,
   "id": "b1c19248",
   "metadata": {},
   "outputs": [
    {
     "data": {
      "text/plain": [
       "{'action': 'activate', 'object': 'lights', 'location': 'kitchen'}"
      ]
     },
     "execution_count": 9,
     "metadata": {},
     "output_type": "execute_result"
    }
   ],
   "source": [
    "transcript_eg = \"activate lights in kitchen\"\n",
    "ir.get_intents(transcript_eg, les, tfidf_vectorizer)"
   ]
  },
  {
   "cell_type": "code",
   "execution_count": 12,
   "id": "91623fc2",
   "metadata": {},
   "outputs": [],
   "source": [
    "\n",
    "# save work\n",
    "with open('Saved/intention_models.pickle', 'wb') as handle:\n",
    "    pickle.dump(ir.intent_models, handle, protocol=4)  \n",
    "with open('Saved/tfidfV.pickle', 'wb') as handle:\n",
    "    pickle.dump(tfidf_vectorizer, handle, protocol=4)  \n",
    "with open('Saved/les.pickle', 'wb') as handle:\n",
    "    pickle.dump(les, handle, protocol=4)  "
   ]
  },
  {
   "cell_type": "markdown",
   "id": "778ae233",
   "metadata": {},
   "source": [
    "### `3.2) src implementation` - usage"
   ]
  },
  {
   "cell_type": "code",
   "execution_count": 13,
   "id": "23b2df0b",
   "metadata": {},
   "outputs": [],
   "source": [
    "with open('Saved/intention_models.pickle', 'rb') as handle:\n",
    "    intention_models_b = pickle.load(handle)\n",
    "with open('Saved/tfidfV.pickle', 'rb') as handle:\n",
    "    tfidfv_b = pickle.load(handle)\n",
    "with open('Saved/les.pickle', 'rb') as handle:\n",
    "    les_b = pickle.load(handle)"
   ]
  },
  {
   "cell_type": "code",
   "execution_count": 14,
   "id": "c2e0042e",
   "metadata": {},
   "outputs": [],
   "source": [
    "ir_b = IntentRecognizer()"
   ]
  },
  {
   "cell_type": "code",
   "execution_count": 15,
   "id": "5dd2ac89",
   "metadata": {},
   "outputs": [],
   "source": [
    "ir_b.intent_models = intention_models_b"
   ]
  },
  {
   "cell_type": "code",
   "execution_count": 18,
   "id": "949f8f8a",
   "metadata": {},
   "outputs": [
    {
     "data": {
      "text/plain": [
       "{'action': 'deactivate', 'object': 'music', 'location': 'none'}"
      ]
     },
     "execution_count": 18,
     "metadata": {},
     "output_type": "execute_result"
    }
   ],
   "source": [
    "transcript_eg = \"turn off music\"\n",
    "ir_b.get_intents(transcript_eg, les_b, tfidfv_b)"
   ]
  },
  {
   "cell_type": "markdown",
   "id": "d5d710ff",
   "metadata": {},
   "source": [
    "---"
   ]
  },
  {
   "cell_type": "markdown",
   "id": "12f9b49a",
   "metadata": {},
   "source": [
    "## Further Work"
   ]
  },
  {
   "cell_type": "markdown",
   "id": "0ac8c915",
   "metadata": {},
   "source": [
    "- https://medium.com/swlh/using-xlnet-for-sentiment-classification-cfa948e65e85\n",
    "- https://igorizraylevych.medium.com/how-do-task-oriented-dialogue-systems-work-and-what-benefits-they-bring-for-business-20691bf2e0ae\n",
    "- https://medium.com/analytics-vidhya/creating-your-own-intent-classifier-b86e000a4926\n",
    "- https://medium.com/analytics-vidhya/a-guide-to-your-own-a-i-voice-assistant-using-python-17f79c94704"
   ]
  },
  {
   "cell_type": "markdown",
   "id": "67f87b42",
   "metadata": {},
   "source": [
    "- https://www.kaggle.com/datasets/elvinagammed/chatbots-intent-recognition-dataset\n",
    "- https://www.kaggle.com/datasets/lorencpetr/chatbot-intent-classification"
   ]
  }
 ],
 "metadata": {
  "kernelspec": {
   "display_name": "sr-test-venv",
   "language": "python",
   "name": "sr-test-venv"
  },
  "language_info": {
   "codemirror_mode": {
    "name": "ipython",
    "version": 3
   },
   "file_extension": ".py",
   "mimetype": "text/x-python",
   "name": "python",
   "nbconvert_exporter": "python",
   "pygments_lexer": "ipython3",
   "version": "3.10.1"
  }
 },
 "nbformat": 4,
 "nbformat_minor": 5
}

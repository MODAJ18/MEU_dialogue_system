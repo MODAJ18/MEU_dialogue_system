{
 "cells": [
  {
   "cell_type": "code",
   "execution_count": 2,
   "id": "08383088",
   "metadata": {},
   "outputs": [],
   "source": [
    "import pandas as pd"
   ]
  },
  {
   "cell_type": "code",
   "execution_count": 3,
   "id": "3068b8b6",
   "metadata": {},
   "outputs": [
    {
     "name": "stdout",
     "output_type": "stream",
     "text": [
      "There are 23132 rows and 7 columns\n"
     ]
    }
   ],
   "source": [
    "nRowsRead = None\n",
    "\n",
    "fs_df = pd.read_csv('Data/fluent_speech_commands_dataset/data/train_data.csv', delimiter=',', nrows = nRowsRead)\n",
    "fs_df.dataframeName = 'train_data.csv'\n",
    "nRow, nCol = fs_df.shape\n",
    "print(f'There are {nRow} rows and {nCol} columns')"
   ]
  },
  {
   "cell_type": "code",
   "execution_count": 12,
   "id": "a6344ec1",
   "metadata": {},
   "outputs": [
    {
     "data": {
      "text/plain": [
       "object     location\n",
       "volume     none        4395\n",
       "heat       washroom    2565\n",
       "           none        2105\n",
       "lights     washroom    1397\n",
       "           kitchen     1326\n",
       "music      none        1326\n",
       "heat       bedroom     1303\n",
       "           kitchen     1282\n",
       "lights     bedroom     1109\n",
       "none       none         994\n",
       "lights     none         962\n",
       "lamp       none         792\n",
       "newspaper  none         551\n",
       "socks      none         538\n",
       "shoes      none         536\n",
       "juice      none         466\n",
       "Chinese    none         449\n",
       "English    none         349\n",
       "Korean     none         345\n",
       "German     none         342\n",
       "dtype: int64"
      ]
     },
     "execution_count": 12,
     "metadata": {},
     "output_type": "execute_result"
    }
   ],
   "source": [
    "fs_df[[\"object\", \"location\"]].value_counts()"
   ]
  },
  {
   "cell_type": "code",
   "execution_count": 4,
   "id": "115d4d9c",
   "metadata": {},
   "outputs": [
    {
     "data": {
      "text/html": [
       "<div>\n",
       "<style scoped>\n",
       "    .dataframe tbody tr th:only-of-type {\n",
       "        vertical-align: middle;\n",
       "    }\n",
       "\n",
       "    .dataframe tbody tr th {\n",
       "        vertical-align: top;\n",
       "    }\n",
       "\n",
       "    .dataframe thead th {\n",
       "        text-align: right;\n",
       "    }\n",
       "</style>\n",
       "<table border=\"1\" class=\"dataframe\">\n",
       "  <thead>\n",
       "    <tr style=\"text-align: right;\">\n",
       "      <th></th>\n",
       "      <th>Unnamed: 0</th>\n",
       "      <th>path</th>\n",
       "      <th>speakerId</th>\n",
       "      <th>transcription</th>\n",
       "      <th>action</th>\n",
       "      <th>object</th>\n",
       "      <th>location</th>\n",
       "    </tr>\n",
       "  </thead>\n",
       "  <tbody>\n",
       "    <tr>\n",
       "      <th>0</th>\n",
       "      <td>0</td>\n",
       "      <td>wavs/speakers/2BqVo8kVB2Skwgyb/0a3129c0-4474-1...</td>\n",
       "      <td>2BqVo8kVB2Skwgyb</td>\n",
       "      <td>Change language</td>\n",
       "      <td>change language</td>\n",
       "      <td>none</td>\n",
       "      <td>none</td>\n",
       "    </tr>\n",
       "    <tr>\n",
       "      <th>1</th>\n",
       "      <td>1</td>\n",
       "      <td>wavs/speakers/2BqVo8kVB2Skwgyb/0ee42a80-4474-1...</td>\n",
       "      <td>2BqVo8kVB2Skwgyb</td>\n",
       "      <td>Resume</td>\n",
       "      <td>activate</td>\n",
       "      <td>music</td>\n",
       "      <td>none</td>\n",
       "    </tr>\n",
       "    <tr>\n",
       "      <th>2</th>\n",
       "      <td>2</td>\n",
       "      <td>wavs/speakers/2BqVo8kVB2Skwgyb/144d5be0-4474-1...</td>\n",
       "      <td>2BqVo8kVB2Skwgyb</td>\n",
       "      <td>Turn the lights on</td>\n",
       "      <td>activate</td>\n",
       "      <td>lights</td>\n",
       "      <td>none</td>\n",
       "    </tr>\n",
       "    <tr>\n",
       "      <th>3</th>\n",
       "      <td>3</td>\n",
       "      <td>wavs/speakers/2BqVo8kVB2Skwgyb/1811b6e0-4474-1...</td>\n",
       "      <td>2BqVo8kVB2Skwgyb</td>\n",
       "      <td>Switch on the lights</td>\n",
       "      <td>activate</td>\n",
       "      <td>lights</td>\n",
       "      <td>none</td>\n",
       "    </tr>\n",
       "    <tr>\n",
       "      <th>4</th>\n",
       "      <td>4</td>\n",
       "      <td>wavs/speakers/2BqVo8kVB2Skwgyb/1d9f3920-4474-1...</td>\n",
       "      <td>2BqVo8kVB2Skwgyb</td>\n",
       "      <td>Switch off the lights</td>\n",
       "      <td>deactivate</td>\n",
       "      <td>lights</td>\n",
       "      <td>none</td>\n",
       "    </tr>\n",
       "    <tr>\n",
       "      <th>...</th>\n",
       "      <td>...</td>\n",
       "      <td>...</td>\n",
       "      <td>...</td>\n",
       "      <td>...</td>\n",
       "      <td>...</td>\n",
       "      <td>...</td>\n",
       "      <td>...</td>\n",
       "    </tr>\n",
       "    <tr>\n",
       "      <th>23127</th>\n",
       "      <td>23127</td>\n",
       "      <td>wavs/speakers/zZezMeg5XvcbRdg3/b946b340-45e0-1...</td>\n",
       "      <td>zZezMeg5XvcbRdg3</td>\n",
       "      <td>I need to practice my Chinese. Switch the lang...</td>\n",
       "      <td>change language</td>\n",
       "      <td>Chinese</td>\n",
       "      <td>none</td>\n",
       "    </tr>\n",
       "    <tr>\n",
       "      <th>23128</th>\n",
       "      <td>23128</td>\n",
       "      <td>wavs/speakers/zZezMeg5XvcbRdg3/beb27cb0-45e0-1...</td>\n",
       "      <td>zZezMeg5XvcbRdg3</td>\n",
       "      <td>I need to practice my German. Switch the language</td>\n",
       "      <td>change language</td>\n",
       "      <td>German</td>\n",
       "      <td>none</td>\n",
       "    </tr>\n",
       "    <tr>\n",
       "      <th>23129</th>\n",
       "      <td>23129</td>\n",
       "      <td>wavs/speakers/zZezMeg5XvcbRdg3/c45f94e0-45e0-1...</td>\n",
       "      <td>zZezMeg5XvcbRdg3</td>\n",
       "      <td>I need to practice my Korean. Switch the language</td>\n",
       "      <td>change language</td>\n",
       "      <td>Korean</td>\n",
       "      <td>none</td>\n",
       "    </tr>\n",
       "    <tr>\n",
       "      <th>23130</th>\n",
       "      <td>23130</td>\n",
       "      <td>wavs/speakers/zZezMeg5XvcbRdg3/ca60c080-45e0-1...</td>\n",
       "      <td>zZezMeg5XvcbRdg3</td>\n",
       "      <td>I need to practice my English. Switch the lang...</td>\n",
       "      <td>change language</td>\n",
       "      <td>English</td>\n",
       "      <td>none</td>\n",
       "    </tr>\n",
       "    <tr>\n",
       "      <th>23131</th>\n",
       "      <td>23131</td>\n",
       "      <td>wavs/speakers/zZezMeg5XvcbRdg3/cf10b400-45e0-1...</td>\n",
       "      <td>zZezMeg5XvcbRdg3</td>\n",
       "      <td>Turn the washroom lights off</td>\n",
       "      <td>deactivate</td>\n",
       "      <td>lights</td>\n",
       "      <td>washroom</td>\n",
       "    </tr>\n",
       "  </tbody>\n",
       "</table>\n",
       "<p>23132 rows × 7 columns</p>\n",
       "</div>"
      ],
      "text/plain": [
       "       Unnamed: 0                                               path  \\\n",
       "0               0  wavs/speakers/2BqVo8kVB2Skwgyb/0a3129c0-4474-1...   \n",
       "1               1  wavs/speakers/2BqVo8kVB2Skwgyb/0ee42a80-4474-1...   \n",
       "2               2  wavs/speakers/2BqVo8kVB2Skwgyb/144d5be0-4474-1...   \n",
       "3               3  wavs/speakers/2BqVo8kVB2Skwgyb/1811b6e0-4474-1...   \n",
       "4               4  wavs/speakers/2BqVo8kVB2Skwgyb/1d9f3920-4474-1...   \n",
       "...           ...                                                ...   \n",
       "23127       23127  wavs/speakers/zZezMeg5XvcbRdg3/b946b340-45e0-1...   \n",
       "23128       23128  wavs/speakers/zZezMeg5XvcbRdg3/beb27cb0-45e0-1...   \n",
       "23129       23129  wavs/speakers/zZezMeg5XvcbRdg3/c45f94e0-45e0-1...   \n",
       "23130       23130  wavs/speakers/zZezMeg5XvcbRdg3/ca60c080-45e0-1...   \n",
       "23131       23131  wavs/speakers/zZezMeg5XvcbRdg3/cf10b400-45e0-1...   \n",
       "\n",
       "              speakerId                                      transcription  \\\n",
       "0      2BqVo8kVB2Skwgyb                                    Change language   \n",
       "1      2BqVo8kVB2Skwgyb                                             Resume   \n",
       "2      2BqVo8kVB2Skwgyb                                 Turn the lights on   \n",
       "3      2BqVo8kVB2Skwgyb                               Switch on the lights   \n",
       "4      2BqVo8kVB2Skwgyb                              Switch off the lights   \n",
       "...                 ...                                                ...   \n",
       "23127  zZezMeg5XvcbRdg3  I need to practice my Chinese. Switch the lang...   \n",
       "23128  zZezMeg5XvcbRdg3  I need to practice my German. Switch the language   \n",
       "23129  zZezMeg5XvcbRdg3  I need to practice my Korean. Switch the language   \n",
       "23130  zZezMeg5XvcbRdg3  I need to practice my English. Switch the lang...   \n",
       "23131  zZezMeg5XvcbRdg3                       Turn the washroom lights off   \n",
       "\n",
       "                action   object  location  \n",
       "0      change language     none      none  \n",
       "1             activate    music      none  \n",
       "2             activate   lights      none  \n",
       "3             activate   lights      none  \n",
       "4           deactivate   lights      none  \n",
       "...                ...      ...       ...  \n",
       "23127  change language  Chinese      none  \n",
       "23128  change language   German      none  \n",
       "23129  change language   Korean      none  \n",
       "23130  change language  English      none  \n",
       "23131       deactivate   lights  washroom  \n",
       "\n",
       "[23132 rows x 7 columns]"
      ]
     },
     "execution_count": 4,
     "metadata": {},
     "output_type": "execute_result"
    }
   ],
   "source": [
    "fs_df"
   ]
  },
  {
   "cell_type": "code",
   "execution_count": null,
   "id": "66e9b57f",
   "metadata": {},
   "outputs": [],
   "source": []
  },
  {
   "cell_type": "markdown",
   "id": "8df3193c",
   "metadata": {},
   "source": [
    "NLU: `transcription` ---> `intent` + `object` + `location`"
   ]
  },
  {
   "cell_type": "code",
   "execution_count": 12,
   "id": "48b6602c",
   "metadata": {},
   "outputs": [],
   "source": [
    "data = fs_df[[\"transcription\", \"action\", \"object\", \"location\"]]"
   ]
  },
  {
   "cell_type": "code",
   "execution_count": 13,
   "id": "e5e9c540",
   "metadata": {},
   "outputs": [
    {
     "data": {
      "text/html": [
       "<div>\n",
       "<style scoped>\n",
       "    .dataframe tbody tr th:only-of-type {\n",
       "        vertical-align: middle;\n",
       "    }\n",
       "\n",
       "    .dataframe tbody tr th {\n",
       "        vertical-align: top;\n",
       "    }\n",
       "\n",
       "    .dataframe thead th {\n",
       "        text-align: right;\n",
       "    }\n",
       "</style>\n",
       "<table border=\"1\" class=\"dataframe\">\n",
       "  <thead>\n",
       "    <tr style=\"text-align: right;\">\n",
       "      <th></th>\n",
       "      <th>transcription</th>\n",
       "      <th>action</th>\n",
       "      <th>object</th>\n",
       "      <th>location</th>\n",
       "    </tr>\n",
       "  </thead>\n",
       "  <tbody>\n",
       "    <tr>\n",
       "      <th>0</th>\n",
       "      <td>Change language</td>\n",
       "      <td>change language</td>\n",
       "      <td>none</td>\n",
       "      <td>none</td>\n",
       "    </tr>\n",
       "    <tr>\n",
       "      <th>1</th>\n",
       "      <td>Resume</td>\n",
       "      <td>activate</td>\n",
       "      <td>music</td>\n",
       "      <td>none</td>\n",
       "    </tr>\n",
       "    <tr>\n",
       "      <th>2</th>\n",
       "      <td>Turn the lights on</td>\n",
       "      <td>activate</td>\n",
       "      <td>lights</td>\n",
       "      <td>none</td>\n",
       "    </tr>\n",
       "    <tr>\n",
       "      <th>3</th>\n",
       "      <td>Switch on the lights</td>\n",
       "      <td>activate</td>\n",
       "      <td>lights</td>\n",
       "      <td>none</td>\n",
       "    </tr>\n",
       "    <tr>\n",
       "      <th>4</th>\n",
       "      <td>Switch off the lights</td>\n",
       "      <td>deactivate</td>\n",
       "      <td>lights</td>\n",
       "      <td>none</td>\n",
       "    </tr>\n",
       "    <tr>\n",
       "      <th>...</th>\n",
       "      <td>...</td>\n",
       "      <td>...</td>\n",
       "      <td>...</td>\n",
       "      <td>...</td>\n",
       "    </tr>\n",
       "    <tr>\n",
       "      <th>23127</th>\n",
       "      <td>I need to practice my Chinese. Switch the lang...</td>\n",
       "      <td>change language</td>\n",
       "      <td>Chinese</td>\n",
       "      <td>none</td>\n",
       "    </tr>\n",
       "    <tr>\n",
       "      <th>23128</th>\n",
       "      <td>I need to practice my German. Switch the language</td>\n",
       "      <td>change language</td>\n",
       "      <td>German</td>\n",
       "      <td>none</td>\n",
       "    </tr>\n",
       "    <tr>\n",
       "      <th>23129</th>\n",
       "      <td>I need to practice my Korean. Switch the language</td>\n",
       "      <td>change language</td>\n",
       "      <td>Korean</td>\n",
       "      <td>none</td>\n",
       "    </tr>\n",
       "    <tr>\n",
       "      <th>23130</th>\n",
       "      <td>I need to practice my English. Switch the lang...</td>\n",
       "      <td>change language</td>\n",
       "      <td>English</td>\n",
       "      <td>none</td>\n",
       "    </tr>\n",
       "    <tr>\n",
       "      <th>23131</th>\n",
       "      <td>Turn the washroom lights off</td>\n",
       "      <td>deactivate</td>\n",
       "      <td>lights</td>\n",
       "      <td>washroom</td>\n",
       "    </tr>\n",
       "  </tbody>\n",
       "</table>\n",
       "<p>23132 rows × 4 columns</p>\n",
       "</div>"
      ],
      "text/plain": [
       "                                           transcription           action  \\\n",
       "0                                        Change language  change language   \n",
       "1                                                 Resume         activate   \n",
       "2                                     Turn the lights on         activate   \n",
       "3                                   Switch on the lights         activate   \n",
       "4                                  Switch off the lights       deactivate   \n",
       "...                                                  ...              ...   \n",
       "23127  I need to practice my Chinese. Switch the lang...  change language   \n",
       "23128  I need to practice my German. Switch the language  change language   \n",
       "23129  I need to practice my Korean. Switch the language  change language   \n",
       "23130  I need to practice my English. Switch the lang...  change language   \n",
       "23131                       Turn the washroom lights off       deactivate   \n",
       "\n",
       "        object  location  \n",
       "0         none      none  \n",
       "1        music      none  \n",
       "2       lights      none  \n",
       "3       lights      none  \n",
       "4       lights      none  \n",
       "...        ...       ...  \n",
       "23127  Chinese      none  \n",
       "23128   German      none  \n",
       "23129   Korean      none  \n",
       "23130  English      none  \n",
       "23131   lights  washroom  \n",
       "\n",
       "[23132 rows x 4 columns]"
      ]
     },
     "execution_count": 13,
     "metadata": {},
     "output_type": "execute_result"
    }
   ],
   "source": [
    "data"
   ]
  },
  {
   "cell_type": "code",
   "execution_count": 14,
   "id": "969485d8",
   "metadata": {},
   "outputs": [
    {
     "data": {
      "text/plain": [
       "increase           5953\n",
       "decrease           5697\n",
       "activate           3822\n",
       "deactivate         3090\n",
       "change language    2479\n",
       "bring              2091\n",
       "Name: action, dtype: int64"
      ]
     },
     "execution_count": 14,
     "metadata": {},
     "output_type": "execute_result"
    }
   ],
   "source": [
    "data[\"action\"].value_counts()"
   ]
  },
  {
   "cell_type": "code",
   "execution_count": 15,
   "id": "855ddbe3",
   "metadata": {},
   "outputs": [
    {
     "data": {
      "text/plain": [
       "heat         7255\n",
       "lights       4794\n",
       "volume       4395\n",
       "music        1326\n",
       "none          994\n",
       "lamp          792\n",
       "newspaper     551\n",
       "socks         538\n",
       "shoes         536\n",
       "juice         466\n",
       "Chinese       449\n",
       "English       349\n",
       "Korean        345\n",
       "German        342\n",
       "Name: object, dtype: int64"
      ]
     },
     "execution_count": 15,
     "metadata": {},
     "output_type": "execute_result"
    }
   ],
   "source": [
    "data[\"object\"].value_counts()"
   ]
  },
  {
   "cell_type": "code",
   "execution_count": 16,
   "id": "ab49134e",
   "metadata": {
    "scrolled": true
   },
   "outputs": [
    {
     "data": {
      "text/plain": [
       "none        14150\n",
       "washroom     3962\n",
       "kitchen      2608\n",
       "bedroom      2412\n",
       "Name: location, dtype: int64"
      ]
     },
     "execution_count": 16,
     "metadata": {},
     "output_type": "execute_result"
    }
   ],
   "source": [
    "data[\"location\"].value_counts()"
   ]
  },
  {
   "cell_type": "markdown",
   "id": "184b8fe3",
   "metadata": {},
   "source": [
    "## `Preprocessing`"
   ]
  },
  {
   "cell_type": "markdown",
   "id": "05a830c6",
   "metadata": {},
   "source": [
    "#### 1- text correction"
   ]
  },
  {
   "cell_type": "code",
   "execution_count": 46,
   "id": "e96cc199",
   "metadata": {},
   "outputs": [],
   "source": [
    "from textblob import TextBlob\n",
    "import re\n",
    "\n",
    "from nltk.corpus import stopwords\n",
    "STOPWORDS = set(stopwords.words('english'))\n",
    "\n",
    "from nltk.stem import WordNetLemmatizer\n",
    "from nltk.corpus import wordnet\n",
    "import nltk"
   ]
  },
  {
   "cell_type": "code",
   "execution_count": 47,
   "id": "04b8e7c3",
   "metadata": {},
   "outputs": [
    {
     "data": {
      "text/plain": [
       "'turn on the lights!'"
      ]
     },
     "execution_count": 47,
     "metadata": {},
     "output_type": "execute_result"
    }
   ],
   "source": [
    "txt = \"turn on the lights!\"\n",
    "txt = str(TextBlob(txt).correct())\n",
    "txt"
   ]
  },
  {
   "cell_type": "markdown",
   "id": "fa732055",
   "metadata": {},
   "source": [
    "#### 2- lowecase letters"
   ]
  },
  {
   "cell_type": "code",
   "execution_count": 48,
   "id": "5fb59fab",
   "metadata": {},
   "outputs": [
    {
     "data": {
      "text/plain": [
       "'for honor'"
      ]
     },
     "execution_count": 48,
     "metadata": {},
     "output_type": "execute_result"
    }
   ],
   "source": [
    "txt = \"For HoNOR\"\n",
    "txt = txt.lower().strip()\n",
    "txt"
   ]
  },
  {
   "cell_type": "markdown",
   "id": "9e5d393d",
   "metadata": {},
   "source": [
    "#### 3- remove stopwords"
   ]
  },
  {
   "cell_type": "code",
   "execution_count": 49,
   "id": "09cdceef",
   "metadata": {},
   "outputs": [
    {
     "data": {
      "text/plain": [
       "'say hi neighbor'"
      ]
     },
     "execution_count": 49,
     "metadata": {},
     "output_type": "execute_result"
    }
   ],
   "source": [
    "def remove_stopwords(text):\n",
    "    return \" \".join([word for word in str(text).split() if word not in STOPWORDS])\n",
    "\n",
    "txt = \"say hi to the neighbor\"\n",
    "txt = remove_stopwords(txt)\n",
    "txt"
   ]
  },
  {
   "cell_type": "markdown",
   "id": "1375cfdb",
   "metadata": {},
   "source": [
    "#### 4- lemmentization"
   ]
  },
  {
   "cell_type": "code",
   "execution_count": 57,
   "id": "c420aaff",
   "metadata": {},
   "outputs": [
    {
     "data": {
      "text/plain": [
       "'Ahmad be work on project'"
      ]
     },
     "execution_count": 57,
     "metadata": {},
     "output_type": "execute_result"
    }
   ],
   "source": [
    "lemmatizer = WordNetLemmatizer()\n",
    "wordnet_map = {\"N\":wordnet.NOUN, \"V\":wordnet.VERB, \"J\":wordnet.ADJ, \"R\":wordnet.ADV} \n",
    "# Pos tag, used Noun, Verb, Adjective and Adverb\n",
    "\n",
    "def lemmatize_words(text):\n",
    "    pos_tagged_text = nltk.pos_tag(text.split())\n",
    "#     print(pos_tagged_text)\n",
    "    return \" \".join([lemmatizer.lemmatize(word, wordnet_map.get(pos[0], wordnet.NOUN)) for word, pos in pos_tagged_text])\n",
    "\n",
    "txt = \"Ahmad is working on projects\"\n",
    "lemmatize_words(txt)"
   ]
  },
  {
   "cell_type": "markdown",
   "id": "1002138e",
   "metadata": {},
   "source": [
    "#### - apply\n"
   ]
  },
  {
   "cell_type": "code",
   "execution_count": 58,
   "id": "c7852fd0",
   "metadata": {},
   "outputs": [],
   "source": [
    "def text_clean(text):\n",
    "    text = text.lower().strip()\n",
    "    text = str(TextBlob(text).correct())\n",
    "    text = lemmatize_words(text)\n",
    "    text = remove_stopwords(text)\n",
    "    return text"
   ]
  },
  {
   "cell_type": "code",
   "execution_count": 59,
   "id": "35198bd1",
   "metadata": {},
   "outputs": [
    {
     "name": "stderr",
     "output_type": "stream",
     "text": [
      "C:\\Users\\modaj\\AppData\\Local\\Temp\\ipykernel_204388\\3974121563.py:1: SettingWithCopyWarning: \n",
      "A value is trying to be set on a copy of a slice from a DataFrame.\n",
      "Try using .loc[row_indexer,col_indexer] = value instead\n",
      "\n",
      "See the caveats in the documentation: https://pandas.pydata.org/pandas-docs/stable/user_guide/indexing.html#returning-a-view-versus-a-copy\n",
      "  data[\"transcription_clean\"] = data[\"transcription\"].apply(lambda x: text_clean(x))\n"
     ]
    }
   ],
   "source": [
    "data[\"transcription_clean\"] = data[\"transcription\"].apply(lambda x: text_clean(x))"
   ]
  },
  {
   "cell_type": "markdown",
   "id": "8dc3b1ea",
   "metadata": {},
   "source": [
    "## `TF-IDF`"
   ]
  },
  {
   "cell_type": "code",
   "execution_count": 99,
   "id": "747daa7a",
   "metadata": {
    "scrolled": true
   },
   "outputs": [],
   "source": [
    "from sklearn.feature_extraction.text import TfidfVectorizer\n",
    "\n",
    "from sklearn import preprocessing"
   ]
  },
  {
   "cell_type": "code",
   "execution_count": 63,
   "id": "3326abbc",
   "metadata": {},
   "outputs": [],
   "source": [
    "tfidf_vectorizer = TfidfVectorizer()"
   ]
  },
  {
   "cell_type": "code",
   "execution_count": 66,
   "id": "3f494615",
   "metadata": {},
   "outputs": [],
   "source": [
    "values = tfidf_vectorizer.fit_transform(data[\"transcription_clean\"] )\n",
    "# tfidf_feature_names = tfidf_vectorizer.get_feature_names()\n",
    "# tfidf_df = pd.DataFrame(values.toarray(), columns = tfidf_feature_names)\n",
    "# tfidf_df"
   ]
  },
  {
   "cell_type": "code",
   "execution_count": 68,
   "id": "79adadec",
   "metadata": {},
   "outputs": [
    {
     "data": {
      "text/plain": [
       "array(['allow', 'anything', 'audit', 'bathroom', 'bedroom', 'bring',\n",
       "       'can', 'change', 'chinese', 'cooper', 'could', 'decrease',\n",
       "       'device', 'different', 'english', 'far', 'fetch', 'german', 'get',\n",
       "       'go', 'hear', 'heat', 'heating', 'increase', 'it', 'juice',\n",
       "       'kitchen', 'lamp', 'language', 'less', 'level', 'light', 'loud',\n",
       "       'louder', 'low', 'lower', 'main', 'make', 'max', 'mushroom',\n",
       "       'music', 'mute', 'need', 'newspaper', 'ok', 'open', 'organ',\n",
       "       'pause', 'phone', 'play', 'please', 'practice', 'put', 'quiet',\n",
       "       'quieter', 'reduce', 'resume', 'set', 'setting', 'shoe', 'sock',\n",
       "       'softer', 'sound', 'start', 'stop', 'switch', 'system',\n",
       "       'temperature', 'that', 'this', 'turn', 'use', 'video', 'volume'],\n",
       "      dtype=object)"
      ]
     },
     "execution_count": 68,
     "metadata": {},
     "output_type": "execute_result"
    }
   ],
   "source": [
    "tfidf_vectorizer.get_feature_names_out()"
   ]
  },
  {
   "cell_type": "code",
   "execution_count": 69,
   "id": "eb78f1a8",
   "metadata": {},
   "outputs": [
    {
     "data": {
      "text/html": [
       "<div>\n",
       "<style scoped>\n",
       "    .dataframe tbody tr th:only-of-type {\n",
       "        vertical-align: middle;\n",
       "    }\n",
       "\n",
       "    .dataframe tbody tr th {\n",
       "        vertical-align: top;\n",
       "    }\n",
       "\n",
       "    .dataframe thead th {\n",
       "        text-align: right;\n",
       "    }\n",
       "</style>\n",
       "<table border=\"1\" class=\"dataframe\">\n",
       "  <thead>\n",
       "    <tr style=\"text-align: right;\">\n",
       "      <th></th>\n",
       "      <th>allow</th>\n",
       "      <th>anything</th>\n",
       "      <th>audit</th>\n",
       "      <th>bathroom</th>\n",
       "      <th>bedroom</th>\n",
       "      <th>bring</th>\n",
       "      <th>can</th>\n",
       "      <th>change</th>\n",
       "      <th>chinese</th>\n",
       "      <th>cooper</th>\n",
       "      <th>...</th>\n",
       "      <th>stop</th>\n",
       "      <th>switch</th>\n",
       "      <th>system</th>\n",
       "      <th>temperature</th>\n",
       "      <th>that</th>\n",
       "      <th>this</th>\n",
       "      <th>turn</th>\n",
       "      <th>use</th>\n",
       "      <th>video</th>\n",
       "      <th>volume</th>\n",
       "    </tr>\n",
       "  </thead>\n",
       "  <tbody>\n",
       "    <tr>\n",
       "      <th>0</th>\n",
       "      <td>0.0</td>\n",
       "      <td>0.0</td>\n",
       "      <td>0.0</td>\n",
       "      <td>0.0</td>\n",
       "      <td>0.0</td>\n",
       "      <td>0.0</td>\n",
       "      <td>0.0</td>\n",
       "      <td>0.855572</td>\n",
       "      <td>0.000000</td>\n",
       "      <td>0.0</td>\n",
       "      <td>...</td>\n",
       "      <td>0.0</td>\n",
       "      <td>0.000000</td>\n",
       "      <td>0.0</td>\n",
       "      <td>0.0</td>\n",
       "      <td>0.0</td>\n",
       "      <td>0.0</td>\n",
       "      <td>0.000000</td>\n",
       "      <td>0.0</td>\n",
       "      <td>0.0</td>\n",
       "      <td>0.0</td>\n",
       "    </tr>\n",
       "    <tr>\n",
       "      <th>1</th>\n",
       "      <td>0.0</td>\n",
       "      <td>0.0</td>\n",
       "      <td>0.0</td>\n",
       "      <td>0.0</td>\n",
       "      <td>0.0</td>\n",
       "      <td>0.0</td>\n",
       "      <td>0.0</td>\n",
       "      <td>0.000000</td>\n",
       "      <td>0.000000</td>\n",
       "      <td>0.0</td>\n",
       "      <td>...</td>\n",
       "      <td>0.0</td>\n",
       "      <td>0.000000</td>\n",
       "      <td>0.0</td>\n",
       "      <td>0.0</td>\n",
       "      <td>0.0</td>\n",
       "      <td>0.0</td>\n",
       "      <td>0.000000</td>\n",
       "      <td>0.0</td>\n",
       "      <td>0.0</td>\n",
       "      <td>0.0</td>\n",
       "    </tr>\n",
       "    <tr>\n",
       "      <th>2</th>\n",
       "      <td>0.0</td>\n",
       "      <td>0.0</td>\n",
       "      <td>0.0</td>\n",
       "      <td>0.0</td>\n",
       "      <td>0.0</td>\n",
       "      <td>0.0</td>\n",
       "      <td>0.0</td>\n",
       "      <td>0.000000</td>\n",
       "      <td>0.000000</td>\n",
       "      <td>0.0</td>\n",
       "      <td>...</td>\n",
       "      <td>0.0</td>\n",
       "      <td>0.000000</td>\n",
       "      <td>0.0</td>\n",
       "      <td>0.0</td>\n",
       "      <td>0.0</td>\n",
       "      <td>0.0</td>\n",
       "      <td>0.639286</td>\n",
       "      <td>0.0</td>\n",
       "      <td>0.0</td>\n",
       "      <td>0.0</td>\n",
       "    </tr>\n",
       "    <tr>\n",
       "      <th>3</th>\n",
       "      <td>0.0</td>\n",
       "      <td>0.0</td>\n",
       "      <td>0.0</td>\n",
       "      <td>0.0</td>\n",
       "      <td>0.0</td>\n",
       "      <td>0.0</td>\n",
       "      <td>0.0</td>\n",
       "      <td>0.000000</td>\n",
       "      <td>0.000000</td>\n",
       "      <td>0.0</td>\n",
       "      <td>...</td>\n",
       "      <td>0.0</td>\n",
       "      <td>0.775144</td>\n",
       "      <td>0.0</td>\n",
       "      <td>0.0</td>\n",
       "      <td>0.0</td>\n",
       "      <td>0.0</td>\n",
       "      <td>0.000000</td>\n",
       "      <td>0.0</td>\n",
       "      <td>0.0</td>\n",
       "      <td>0.0</td>\n",
       "    </tr>\n",
       "    <tr>\n",
       "      <th>4</th>\n",
       "      <td>0.0</td>\n",
       "      <td>0.0</td>\n",
       "      <td>0.0</td>\n",
       "      <td>0.0</td>\n",
       "      <td>0.0</td>\n",
       "      <td>0.0</td>\n",
       "      <td>0.0</td>\n",
       "      <td>0.000000</td>\n",
       "      <td>0.000000</td>\n",
       "      <td>0.0</td>\n",
       "      <td>...</td>\n",
       "      <td>0.0</td>\n",
       "      <td>0.775144</td>\n",
       "      <td>0.0</td>\n",
       "      <td>0.0</td>\n",
       "      <td>0.0</td>\n",
       "      <td>0.0</td>\n",
       "      <td>0.000000</td>\n",
       "      <td>0.0</td>\n",
       "      <td>0.0</td>\n",
       "      <td>0.0</td>\n",
       "    </tr>\n",
       "    <tr>\n",
       "      <th>...</th>\n",
       "      <td>...</td>\n",
       "      <td>...</td>\n",
       "      <td>...</td>\n",
       "      <td>...</td>\n",
       "      <td>...</td>\n",
       "      <td>...</td>\n",
       "      <td>...</td>\n",
       "      <td>...</td>\n",
       "      <td>...</td>\n",
       "      <td>...</td>\n",
       "      <td>...</td>\n",
       "      <td>...</td>\n",
       "      <td>...</td>\n",
       "      <td>...</td>\n",
       "      <td>...</td>\n",
       "      <td>...</td>\n",
       "      <td>...</td>\n",
       "      <td>...</td>\n",
       "      <td>...</td>\n",
       "      <td>...</td>\n",
       "      <td>...</td>\n",
       "    </tr>\n",
       "    <tr>\n",
       "      <th>23127</th>\n",
       "      <td>0.0</td>\n",
       "      <td>0.0</td>\n",
       "      <td>0.0</td>\n",
       "      <td>0.0</td>\n",
       "      <td>0.0</td>\n",
       "      <td>0.0</td>\n",
       "      <td>0.0</td>\n",
       "      <td>0.000000</td>\n",
       "      <td>0.506352</td>\n",
       "      <td>0.0</td>\n",
       "      <td>...</td>\n",
       "      <td>0.0</td>\n",
       "      <td>0.323679</td>\n",
       "      <td>0.0</td>\n",
       "      <td>0.0</td>\n",
       "      <td>0.0</td>\n",
       "      <td>0.0</td>\n",
       "      <td>0.000000</td>\n",
       "      <td>0.0</td>\n",
       "      <td>0.0</td>\n",
       "      <td>0.0</td>\n",
       "    </tr>\n",
       "    <tr>\n",
       "      <th>23128</th>\n",
       "      <td>0.0</td>\n",
       "      <td>0.0</td>\n",
       "      <td>0.0</td>\n",
       "      <td>0.0</td>\n",
       "      <td>0.0</td>\n",
       "      <td>0.0</td>\n",
       "      <td>0.0</td>\n",
       "      <td>0.000000</td>\n",
       "      <td>0.000000</td>\n",
       "      <td>0.0</td>\n",
       "      <td>...</td>\n",
       "      <td>0.0</td>\n",
       "      <td>0.319092</td>\n",
       "      <td>0.0</td>\n",
       "      <td>0.0</td>\n",
       "      <td>0.0</td>\n",
       "      <td>0.0</td>\n",
       "      <td>0.000000</td>\n",
       "      <td>0.0</td>\n",
       "      <td>0.0</td>\n",
       "      <td>0.0</td>\n",
       "    </tr>\n",
       "    <tr>\n",
       "      <th>23129</th>\n",
       "      <td>0.0</td>\n",
       "      <td>0.0</td>\n",
       "      <td>0.0</td>\n",
       "      <td>0.0</td>\n",
       "      <td>0.0</td>\n",
       "      <td>0.0</td>\n",
       "      <td>0.0</td>\n",
       "      <td>0.000000</td>\n",
       "      <td>0.000000</td>\n",
       "      <td>0.0</td>\n",
       "      <td>...</td>\n",
       "      <td>0.0</td>\n",
       "      <td>0.319240</td>\n",
       "      <td>0.0</td>\n",
       "      <td>0.0</td>\n",
       "      <td>0.0</td>\n",
       "      <td>0.0</td>\n",
       "      <td>0.000000</td>\n",
       "      <td>0.0</td>\n",
       "      <td>0.0</td>\n",
       "      <td>0.0</td>\n",
       "    </tr>\n",
       "    <tr>\n",
       "      <th>23130</th>\n",
       "      <td>0.0</td>\n",
       "      <td>0.0</td>\n",
       "      <td>0.0</td>\n",
       "      <td>0.0</td>\n",
       "      <td>0.0</td>\n",
       "      <td>0.0</td>\n",
       "      <td>0.0</td>\n",
       "      <td>0.000000</td>\n",
       "      <td>0.000000</td>\n",
       "      <td>0.0</td>\n",
       "      <td>...</td>\n",
       "      <td>0.0</td>\n",
       "      <td>0.319435</td>\n",
       "      <td>0.0</td>\n",
       "      <td>0.0</td>\n",
       "      <td>0.0</td>\n",
       "      <td>0.0</td>\n",
       "      <td>0.000000</td>\n",
       "      <td>0.0</td>\n",
       "      <td>0.0</td>\n",
       "      <td>0.0</td>\n",
       "    </tr>\n",
       "    <tr>\n",
       "      <th>23131</th>\n",
       "      <td>0.0</td>\n",
       "      <td>0.0</td>\n",
       "      <td>0.0</td>\n",
       "      <td>0.0</td>\n",
       "      <td>0.0</td>\n",
       "      <td>0.0</td>\n",
       "      <td>0.0</td>\n",
       "      <td>0.000000</td>\n",
       "      <td>0.000000</td>\n",
       "      <td>0.0</td>\n",
       "      <td>...</td>\n",
       "      <td>0.0</td>\n",
       "      <td>0.000000</td>\n",
       "      <td>0.0</td>\n",
       "      <td>0.0</td>\n",
       "      <td>0.0</td>\n",
       "      <td>0.0</td>\n",
       "      <td>0.452014</td>\n",
       "      <td>0.0</td>\n",
       "      <td>0.0</td>\n",
       "      <td>0.0</td>\n",
       "    </tr>\n",
       "  </tbody>\n",
       "</table>\n",
       "<p>23132 rows × 74 columns</p>\n",
       "</div>"
      ],
      "text/plain": [
       "       allow  anything  audit  bathroom  bedroom  bring  can    change  \\\n",
       "0        0.0       0.0    0.0       0.0      0.0    0.0  0.0  0.855572   \n",
       "1        0.0       0.0    0.0       0.0      0.0    0.0  0.0  0.000000   \n",
       "2        0.0       0.0    0.0       0.0      0.0    0.0  0.0  0.000000   \n",
       "3        0.0       0.0    0.0       0.0      0.0    0.0  0.0  0.000000   \n",
       "4        0.0       0.0    0.0       0.0      0.0    0.0  0.0  0.000000   \n",
       "...      ...       ...    ...       ...      ...    ...  ...       ...   \n",
       "23127    0.0       0.0    0.0       0.0      0.0    0.0  0.0  0.000000   \n",
       "23128    0.0       0.0    0.0       0.0      0.0    0.0  0.0  0.000000   \n",
       "23129    0.0       0.0    0.0       0.0      0.0    0.0  0.0  0.000000   \n",
       "23130    0.0       0.0    0.0       0.0      0.0    0.0  0.0  0.000000   \n",
       "23131    0.0       0.0    0.0       0.0      0.0    0.0  0.0  0.000000   \n",
       "\n",
       "        chinese  cooper  ...  stop    switch  system  temperature  that  this  \\\n",
       "0      0.000000     0.0  ...   0.0  0.000000     0.0          0.0   0.0   0.0   \n",
       "1      0.000000     0.0  ...   0.0  0.000000     0.0          0.0   0.0   0.0   \n",
       "2      0.000000     0.0  ...   0.0  0.000000     0.0          0.0   0.0   0.0   \n",
       "3      0.000000     0.0  ...   0.0  0.775144     0.0          0.0   0.0   0.0   \n",
       "4      0.000000     0.0  ...   0.0  0.775144     0.0          0.0   0.0   0.0   \n",
       "...         ...     ...  ...   ...       ...     ...          ...   ...   ...   \n",
       "23127  0.506352     0.0  ...   0.0  0.323679     0.0          0.0   0.0   0.0   \n",
       "23128  0.000000     0.0  ...   0.0  0.319092     0.0          0.0   0.0   0.0   \n",
       "23129  0.000000     0.0  ...   0.0  0.319240     0.0          0.0   0.0   0.0   \n",
       "23130  0.000000     0.0  ...   0.0  0.319435     0.0          0.0   0.0   0.0   \n",
       "23131  0.000000     0.0  ...   0.0  0.000000     0.0          0.0   0.0   0.0   \n",
       "\n",
       "           turn  use  video  volume  \n",
       "0      0.000000  0.0    0.0     0.0  \n",
       "1      0.000000  0.0    0.0     0.0  \n",
       "2      0.639286  0.0    0.0     0.0  \n",
       "3      0.000000  0.0    0.0     0.0  \n",
       "4      0.000000  0.0    0.0     0.0  \n",
       "...         ...  ...    ...     ...  \n",
       "23127  0.000000  0.0    0.0     0.0  \n",
       "23128  0.000000  0.0    0.0     0.0  \n",
       "23129  0.000000  0.0    0.0     0.0  \n",
       "23130  0.000000  0.0    0.0     0.0  \n",
       "23131  0.452014  0.0    0.0     0.0  \n",
       "\n",
       "[23132 rows x 74 columns]"
      ]
     },
     "execution_count": 69,
     "metadata": {},
     "output_type": "execute_result"
    }
   ],
   "source": [
    "tfidf_feature_names = tfidf_vectorizer.get_feature_names_out()\n",
    "tfidf_df = pd.DataFrame(values.toarray(), columns = tfidf_feature_names)\n",
    "tfidf_df"
   ]
  },
  {
   "cell_type": "code",
   "execution_count": 100,
   "id": "383b4cf7",
   "metadata": {},
   "outputs": [],
   "source": [
    "le = preprocessing.LabelEncoder()"
   ]
  },
  {
   "cell_type": "code",
   "execution_count": 127,
   "id": "460156ac",
   "metadata": {},
   "outputs": [],
   "source": [
    "X = values\n",
    "\n",
    "le_action = preprocessing.LabelEncoder()\n",
    "le_object = preprocessing.LabelEncoder()\n",
    "le_location = preprocessing.LabelEncoder()\n",
    "y_action, y_object, y_location = le_action.fit_transform(data[\"action\"]),\\\n",
    "                                                  le_object.fit_transform(data[\"object\"]),\\\n",
    "                                                  le_location.fit_transform(data[\"location\"])\n",
    "\n",
    "# le_action.inverse_transform(y_action)"
   ]
  },
  {
   "cell_type": "code",
   "execution_count": 125,
   "id": "5e255157",
   "metadata": {},
   "outputs": [
    {
     "name": "stderr",
     "output_type": "stream",
     "text": [
      "C:\\Users\\modaj\\AppData\\Local\\Temp\\ipykernel_204388\\1416426773.py:1: SettingWithCopyWarning: \n",
      "A value is trying to be set on a copy of a slice from a DataFrame.\n",
      "Try using .loc[row_indexer,col_indexer] = value instead\n",
      "\n",
      "See the caveats in the documentation: https://pandas.pydata.org/pandas-docs/stable/user_guide/indexing.html#returning-a-view-versus-a-copy\n",
      "  data[\"state\"] = data[\"action\"] + \"-\" + data[\"object\"] + \"-\" + data[\"location\"]\n"
     ]
    }
   ],
   "source": [
    "data[\"state\"] = data[\"action\"] + \"-\" + data[\"object\"] + \"-\" + data[\"location\"]\n",
    "y_state = le.fit_transform(data[\"state\"])"
   ]
  },
  {
   "cell_type": "markdown",
   "id": "ddded068",
   "metadata": {},
   "source": [
    "## `Training`"
   ]
  },
  {
   "cell_type": "code",
   "execution_count": 116,
   "id": "970ae1d3",
   "metadata": {},
   "outputs": [],
   "source": [
    "from sklearn.naive_bayes import MultinomialNB\n",
    "from sklearn.linear_model import SGDClassifier\n",
    "from sklearn.linear_model import LogisticRegression\n",
    "from sklearn.model_selection import train_test_split\n",
    "from sklearn.metrics import accuracy_score"
   ]
  },
  {
   "cell_type": "code",
   "execution_count": 117,
   "id": "37b02fa9",
   "metadata": {},
   "outputs": [],
   "source": [
    "# Model definitions\n",
    "MultinomialNB_model = MultinomialNB(alpha=0.1, class_prior=None, fit_prior=True)\n",
    "LogReg_model = LogisticRegression()\n",
    "SGDClassifier_model = SGDClassifier(class_weight='balanced', penalty='l1')\n",
    "\n",
    "models = [MultinomialNB_model, LogReg_model, SGDClassifier_model]\n",
    "model_names = ['MultinomialNB', 'LogisticRegression', 'SGDClassifier']\n",
    "\n",
    "def train(X, y, label_col='y'):\n",
    "    def train_models(X_tr, X_te, y_tr, y_te):\n",
    "        for i, model in enumerate(models):\n",
    "            print(f\"Model: {model_names[i]}\")\n",
    "            model.fit(X_tr, y_tr)\n",
    "            y_pred = model.predict(X_te)\n",
    "            print('accuracy %s' % accuracy_score(y_te, y_pred))\n",
    "            print()\n",
    "    print(\"----training on data with labels for column: {}----\".format(label_col))\n",
    "        \n",
    "    X_train, X_test, y_train, y_test = train_test_split(X, y, test_size=0.2, random_state=110 , stratify=y)\n",
    "    train_models(X_train, X_test, y_train, y_test)\n",
    "    print(\"-\" * 100)\n",
    "    print()\n",
    "    "
   ]
  },
  {
   "cell_type": "code",
   "execution_count": 126,
   "id": "dfd228de",
   "metadata": {},
   "outputs": [
    {
     "name": "stdout",
     "output_type": "stream",
     "text": [
      "----training on data with labels for column: action----\n",
      "Model: MultinomialNB\n",
      "accuracy 0.7516749513723795\n",
      "\n",
      "Model: LogisticRegression\n"
     ]
    },
    {
     "name": "stderr",
     "output_type": "stream",
     "text": [
      "C:\\Users\\modaj\\OneDrive\\Documents\\Personal\\Uni\\NLP\\project\\test-venv\\lib\\site-packages\\sklearn\\linear_model\\_logistic.py:458: ConvergenceWarning: lbfgs failed to converge (status=1):\n",
      "STOP: TOTAL NO. of ITERATIONS REACHED LIMIT.\n",
      "\n",
      "Increase the number of iterations (max_iter) or scale the data as shown in:\n",
      "    https://scikit-learn.org/stable/modules/preprocessing.html\n",
      "Please also refer to the documentation for alternative solver options:\n",
      "    https://scikit-learn.org/stable/modules/linear_model.html#logistic-regression\n",
      "  n_iter_i = _check_optimize_result(\n"
     ]
    },
    {
     "name": "stdout",
     "output_type": "stream",
     "text": [
      "accuracy 0.7516749513723795\n",
      "\n",
      "Model: SGDClassifier\n",
      "accuracy 0.7618327209855198\n",
      "\n",
      "----------------------------------------------------------------------------------------------------\n",
      "\n",
      "----training on data with labels for column: object----\n",
      "Model: MultinomialNB\n",
      "accuracy 0.988329371082775\n",
      "\n",
      "Model: LogisticRegression\n",
      "accuracy 1.0\n",
      "\n",
      "Model: SGDClassifier\n",
      "accuracy 1.0\n",
      "\n",
      "----------------------------------------------------------------------------------------------------\n",
      "\n",
      "----training on data with labels for column: location----\n",
      "Model: MultinomialNB\n",
      "accuracy 0.9394856278366112\n",
      "\n",
      "Model: LogisticRegression\n",
      "accuracy 1.0\n",
      "\n",
      "Model: SGDClassifier\n",
      "accuracy 1.0\n",
      "\n",
      "----------------------------------------------------------------------------------------------------\n",
      "\n",
      "----training on data with labels for column: state----\n",
      "Model: MultinomialNB\n",
      "accuracy 0.7516749513723795\n",
      "\n",
      "Model: LogisticRegression\n"
     ]
    },
    {
     "name": "stderr",
     "output_type": "stream",
     "text": [
      "C:\\Users\\modaj\\OneDrive\\Documents\\Personal\\Uni\\NLP\\project\\test-venv\\lib\\site-packages\\sklearn\\linear_model\\_logistic.py:458: ConvergenceWarning: lbfgs failed to converge (status=1):\n",
      "STOP: TOTAL NO. of ITERATIONS REACHED LIMIT.\n",
      "\n",
      "Increase the number of iterations (max_iter) or scale the data as shown in:\n",
      "    https://scikit-learn.org/stable/modules/preprocessing.html\n",
      "Please also refer to the documentation for alternative solver options:\n",
      "    https://scikit-learn.org/stable/modules/linear_model.html#logistic-regression\n",
      "  n_iter_i = _check_optimize_result(\n"
     ]
    },
    {
     "name": "stdout",
     "output_type": "stream",
     "text": [
      "accuracy 0.7609682299546142\n",
      "\n",
      "Model: SGDClassifier\n",
      "accuracy 0.7611843527123406\n",
      "\n",
      "----------------------------------------------------------------------------------------------------\n",
      "\n"
     ]
    }
   ],
   "source": [
    "train(X, y_action, \"action\")\n",
    "train(X, y_object, \"object\")\n",
    "train(X, y_location, \"location\")\n",
    "\n",
    "train(X, y_state, \"state\")"
   ]
  },
  {
   "cell_type": "code",
   "execution_count": 142,
   "id": "6a05e91c",
   "metadata": {},
   "outputs": [
    {
     "name": "stdout",
     "output_type": "stream",
     "text": [
      "column: action\n",
      "accuracy 0.7594553706505295\n",
      "\n",
      "column: object\n",
      "accuracy 1.0\n",
      "\n",
      "column: location\n",
      "accuracy 1.0\n",
      "\n"
     ]
    }
   ],
   "source": [
    "# Train Final Model\n",
    "y_intents = [y_action, y_object, y_location]\n",
    "y_intents = {\"action\": y_action, \"object\": y_object, \"location\": y_location}\n",
    "les = {\"action\": le_action, \"object\": le_object, \"location\": le_location}\n",
    "intent_models = {}\n",
    "X = values\n",
    "classes = []\n",
    "\n",
    "for intent, y_intent in y_intents.items():\n",
    "    print(\"column: {}\".format(intent))\n",
    "    SGDClassifier_model = SGDClassifier(class_weight='balanced', penalty='l1')\n",
    "    X_train, X_test, y_train, y_test = train_test_split(X, y_intent, test_size=0.2, random_state=110 , stratify=y_intent)\n",
    "    SGDClassifier_model.fit(X_train, y_train)\n",
    "    y_pred = SGDClassifier_model.predict(X_test)\n",
    "    intent_models[intent] = SGDClassifier_model\n",
    "    print('accuracy %s' % accuracy_score(y_test, y_pred))\n",
    "    print()\n",
    "    "
   ]
  },
  {
   "cell_type": "markdown",
   "id": "c0b38aed",
   "metadata": {},
   "source": [
    "## `Evaluation`"
   ]
  },
  {
   "cell_type": "code",
   "execution_count": null,
   "id": "e2a69384",
   "metadata": {},
   "outputs": [],
   "source": []
  },
  {
   "cell_type": "code",
   "execution_count": null,
   "id": "316ac811",
   "metadata": {},
   "outputs": [],
   "source": []
  },
  {
   "cell_type": "markdown",
   "id": "b3ab0fdb",
   "metadata": {},
   "source": [
    "## `Applying Model`"
   ]
  },
  {
   "cell_type": "code",
   "execution_count": 166,
   "id": "75dbcaee",
   "metadata": {},
   "outputs": [
    {
     "data": {
      "text/plain": [
       "['none', 'kitchen', 'bedroom', 'washroom']"
      ]
     },
     "execution_count": 166,
     "metadata": {},
     "output_type": "execute_result"
    }
   ],
   "source": [
    "list(data[\"location\"].unique()) "
   ]
  },
  {
   "cell_type": "code",
   "execution_count": 158,
   "id": "c8135540",
   "metadata": {},
   "outputs": [
    {
     "data": {
      "text/plain": [
       "{'action': 'deactivate', 'object': 'volume', 'location': 'none'}"
      ]
     },
     "execution_count": 158,
     "metadata": {},
     "output_type": "execute_result"
    }
   ],
   "source": [
    "# apply intent classification\n",
    "transcript_eg = \"Switch on the lights\"\n",
    "\n",
    "def get_intents(transcript):\n",
    "    transcript = tfidf_vectorizer.transform([transcript])\n",
    "    action_pred = les[\"action\"].inverse_transform(intent_models[\"action\"].predict(transcript))[0]\n",
    "    object_pred = les[\"object\"].inverse_transform(intent_models[\"object\"].predict(transcript))[0]\n",
    "    location_pred = les[\"location\"].inverse_transform(intent_models[\"location\"].predict(transcript))[0]\n",
    "    \n",
    "    return {\"action\": action_pred, \"object\": object_pred, \"location\": location_pred}\n",
    "\n",
    "get_intents(transcript_eg)"
   ]
  },
  {
   "cell_type": "code",
   "execution_count": null,
   "id": "9320a702",
   "metadata": {},
   "outputs": [],
   "source": [
    "# using SGD classifier for best results provided\n",
    "\n",
    "\n",
    "X_train, X_test, y_train, y_test = train_test_split(X, y, test_size=0.2, random_state=110 , stratify=y)\n",
    "SGDClassifier_model.fit(X_tr, y_tr)\n",
    "y_pred = SGDClassifier_model.predict(X_te)\n",
    "print('accuracy %s' % accuracy_score(y_te, y_pred))"
   ]
  },
  {
   "cell_type": "markdown",
   "id": "d5d710ff",
   "metadata": {},
   "source": [
    "---"
   ]
  },
  {
   "cell_type": "markdown",
   "id": "12f9b49a",
   "metadata": {},
   "source": [
    "## Further Work"
   ]
  },
  {
   "cell_type": "markdown",
   "id": "0ac8c915",
   "metadata": {},
   "source": [
    "- https://medium.com/swlh/using-xlnet-for-sentiment-classification-cfa948e65e85\n",
    "- https://igorizraylevych.medium.com/how-do-task-oriented-dialogue-systems-work-and-what-benefits-they-bring-for-business-20691bf2e0ae\n",
    "- https://medium.com/analytics-vidhya/creating-your-own-intent-classifier-b86e000a4926\n",
    "- https://medium.com/analytics-vidhya/a-guide-to-your-own-a-i-voice-assistant-using-python-17f79c94704"
   ]
  }
 ],
 "metadata": {
  "kernelspec": {
   "display_name": "sr-test-venv",
   "language": "python",
   "name": "sr-test-venv"
  },
  "language_info": {
   "codemirror_mode": {
    "name": "ipython",
    "version": 3
   },
   "file_extension": ".py",
   "mimetype": "text/x-python",
   "name": "python",
   "nbconvert_exporter": "python",
   "pygments_lexer": "ipython3",
   "version": "3.10.1"
  }
 },
 "nbformat": 4,
 "nbformat_minor": 5
}

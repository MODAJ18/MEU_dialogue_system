{
 "cells": [
  {
   "cell_type": "code",
   "execution_count": 10,
   "id": "ec793383",
   "metadata": {},
   "outputs": [],
   "source": [
    "import speech_recognition as sr\n",
    "\n",
    "import webbrowser\n",
    "import pyttsx3\n",
    "import datetime\n",
    "import wikipedia\n",
    "import os"
   ]
  },
  {
   "cell_type": "markdown",
   "id": "c07f66ea",
   "metadata": {},
   "source": [
    "## `Setup`"
   ]
  },
  {
   "cell_type": "code",
   "execution_count": 12,
   "id": "c5332b7b",
   "metadata": {},
   "outputs": [],
   "source": [
    "engine = pyttsx3.init('sapi5')\n",
    "voices = engine.getProperty('voices') #gets you the details of the current voice\n",
    "engine.setProperty('voice', voices[1].id)  # 0-male voice , 1-female voice"
   ]
  },
  {
   "cell_type": "code",
   "execution_count": 13,
   "id": "2b023890",
   "metadata": {},
   "outputs": [
    {
     "name": "stdout",
     "output_type": "stream",
     "text": [
      "200\n"
     ]
    }
   ],
   "source": [
    "rate = engine.getProperty('rate')   # getting details of current speaking rate\n",
    "print (rate)              #printing current voice rate"
   ]
  },
  {
   "cell_type": "code",
   "execution_count": 34,
   "id": "28692762",
   "metadata": {},
   "outputs": [],
   "source": [
    "engine.setProperty('rate', 165) "
   ]
  },
  {
   "cell_type": "code",
   "execution_count": 35,
   "id": "9d1b091d",
   "metadata": {},
   "outputs": [],
   "source": [
    "def speak(audio):   \n",
    "    engine.say(audio)    \n",
    "    engine.runAndWait()  "
   ]
  },
  {
   "cell_type": "code",
   "execution_count": 36,
   "id": "effb81d3",
   "metadata": {},
   "outputs": [],
   "source": [
    "speak(\"hello, how are you?\")"
   ]
  },
  {
   "cell_type": "code",
   "execution_count": 30,
   "id": "45aae759",
   "metadata": {},
   "outputs": [],
   "source": [
    "def wishMe():\n",
    "    hour = int(datetime.datetime.now().hour)\n",
    "    if hour>=0 and hour<12:\n",
    "        speak(\"Good Morning!\")    \n",
    "    \n",
    "    elif hour>=12 and hour<18:\n",
    "        speak(\"Good Afternoon!\")       \n",
    "    \n",
    "    else:\n",
    "        speak(\"Good Evening!\")   "
   ]
  },
  {
   "cell_type": "code",
   "execution_count": 31,
   "id": "3738c4ac",
   "metadata": {},
   "outputs": [],
   "source": [
    "def takeCommand():\n",
    "    #It takes microphone input from the user and returns string output    \n",
    "    r = sr.Recognizer()\n",
    "    with sr.Microphone() as source:\n",
    "        print(\"Listening...\")\n",
    "        r.pause_threshold = 1\n",
    "        audio = r.listen(source)\n",
    "        try:\n",
    "            print(\"Recognizing...\")    \n",
    "            query = r.recognize_google(audio, language='en-in') #Using google for voice recognition.\n",
    "            print(f\"User said: {query}\\n\")  #User query will be printed.    \n",
    "        except Exception as e:\n",
    "            # print(e)  use only if you want to print the error!\n",
    "            print(\"Say that again please...\")   #Say that again will be printed in case of improper voice \n",
    "            return \"None\" #None string will be returned\n",
    "        return query"
   ]
  },
  {
   "cell_type": "markdown",
   "id": "c8d07cc1",
   "metadata": {},
   "source": [
    "## `Loop`"
   ]
  },
  {
   "cell_type": "code",
   "execution_count": null,
   "id": "947f93c2",
   "metadata": {},
   "outputs": [],
   "source": [
    "wishMe()\n",
    "while True:\n",
    "    query = takeCommand().lower() #Converting user query into lower case     \n",
    "    \n",
    "    # Logic for executing tasks based on query\n",
    "    if 'wikipedia' in query:  #if wikipedia found in the query then this block will be executed\n",
    "        speak('Searching Wikipedia...')\n",
    "        query = query.replace(\"wikipedia\", \"\")\n",
    "        if query == \"\":\n",
    "            query = \"nothing\"\n",
    "        else:\n",
    "            query = \"what is life?\"\n",
    "        results = wikipedia.summary(query, sentences=5) \n",
    "        speak(\"According to Wikipedia\")\n",
    "        print(results)\n",
    "        speak(results)\n",
    "        \n",
    "    elif 'open youtube' in query:\n",
    "        webbrowser.open(\"youtube.com\")\n",
    "        \n",
    "    elif 'open google' in query:\n",
    "        webbrowser.open(\"google.com\")\n",
    "        \n",
    "    elif 'play music' in query:\n",
    "        music_dir = 'music_dir_of_the_user'\n",
    "        songs = os.listdir(music_dir)\n",
    "        print(songs)    \n",
    "        os.startfile(os.path.join(music_dir, songs[0]))\n",
    "        \n",
    "    elif 'the time' in query:\n",
    "        strTime = datetime.datetime.now().strftime(\"%H:%M:%S\")    \n",
    "        speak(f\"Sir, the time is {strTime}\")\n",
    "        \n",
    "    elif ('open stackoverflow' in query) or ('open stack overflow' in query):                           \n",
    "        webbrowser.open('stackoverflow.com')\n",
    "        \n",
    "    elif ('open free code camp' in query) or ('open freecodecamp' in query):            \n",
    "        webbrowser.open('freecodecamp.org')\n",
    "        \n",
    "#     elif 'open code' in query:\n",
    "#         codePath = \"/Applications/PyCharm CE.app\" #that's the code path.\n",
    "#         os.startfile(codePath)\n",
    "        \n",
    "#     elif \"email to receiver's name\" in query:\n",
    "#         try:\n",
    "#             speak(\"What should I say?\")\n",
    "#             content = takeCommand()\n",
    "#             to = \"receiver's email id\"    \n",
    "#             sendEmail(to, content)\n",
    "#             speak(\"Email has been sent!\")\n",
    "#         except Exception as e:\n",
    "#             print(e)\n",
    "#             speak(\"Sorry sir. I am not able to send this email\")\n",
    "    else:\n",
    "        pass\n",
    "        # conversational AI used here"
   ]
  },
  {
   "cell_type": "markdown",
   "id": "20e4a4a4",
   "metadata": {},
   "source": [
    "## `?`"
   ]
  },
  {
   "cell_type": "code",
   "execution_count": 1,
   "id": "d17143da",
   "metadata": {},
   "outputs": [],
   "source": [
    "from src.dialog_manager.manage import manage_dialog"
   ]
  },
  {
   "cell_type": "code",
   "execution_count": 2,
   "id": "a1252b42",
   "metadata": {},
   "outputs": [],
   "source": [
    "states = {\"music\": {\"none\": \"off\"},\n",
    "          \"lights\": {\"none\": \"on\", \"bedroom\": \"on\", \"washroom\":\"on\", \"kitchen\": \"on\"},\n",
    "          \"volume\": {\"none\":\"3\"},\n",
    "          \"heat\": {\"none\":\"warm\", \"bedroom\":\"warm\", \"washroom\":\"warm\", \"kitchen\": \"warm\"},\n",
    "          \"lamp\": {\"none\": \"off\"},\n",
    "          \"newspaper\": {\"none\": \"not brought\"},\n",
    "          \"juice\": {\"none\": \"not brought\"},\n",
    "          \"socks\": {\"none\": \"not brought\"},\n",
    "          \"chinese\": {\"none\": \"off\"},\n",
    "          \"korean\": {\"none\": \"off\"},\n",
    "          \"english\": {\"none\": \"on\"},\n",
    "          \"german\": {\"none\": \"off\"},\n",
    "          \"shoes\": {\"none\": \"not brought\"}}"
   ]
  },
  {
   "cell_type": "code",
   "execution_count": 7,
   "id": "e615951e",
   "metadata": {},
   "outputs": [],
   "source": [
    "current_intent_test = {'action': 'increase', 'object': 'volume', 'location': 'none'}\n",
    "states_main, prompt_main, prev_states_main = manage_dialog(current_intent_test, states)"
   ]
  },
  {
   "cell_type": "code",
   "execution_count": 8,
   "id": "93c533a2",
   "metadata": {},
   "outputs": [
    {
     "data": {
      "text/plain": [
       "{'music': {'none': 'off'},\n",
       " 'lights': {'none': 'on', 'bedroom': 'on', 'washroom': 'on', 'kitchen': 'on'},\n",
       " 'volume': {'none': '4'},\n",
       " 'heat': {'none': 'warm',\n",
       "  'bedroom': 'warm',\n",
       "  'washroom': 'warm',\n",
       "  'kitchen': 'warm'},\n",
       " 'lamp': {'none': 'off'},\n",
       " 'newspaper': {'none': 'not brought'},\n",
       " 'juice': {'none': 'not brought'},\n",
       " 'socks': {'none': 'not brought'},\n",
       " 'chinese': {'none': 'off'},\n",
       " 'korean': {'none': 'off'},\n",
       " 'english': {'none': 'on'},\n",
       " 'german': {'none': 'off'},\n",
       " 'shoes': {'none': 'not brought'}}"
      ]
     },
     "execution_count": 8,
     "metadata": {},
     "output_type": "execute_result"
    }
   ],
   "source": [
    "prev_states_main"
   ]
  },
  {
   "cell_type": "code",
   "execution_count": 9,
   "id": "1101cf4a",
   "metadata": {},
   "outputs": [
    {
     "data": {
      "text/plain": [
       "{'music': {'none': 'off'},\n",
       " 'lights': {'none': 'on', 'bedroom': 'on', 'washroom': 'on', 'kitchen': 'on'},\n",
       " 'volume': {'none': '5'},\n",
       " 'heat': {'none': 'warm',\n",
       "  'bedroom': 'warm',\n",
       "  'washroom': 'warm',\n",
       "  'kitchen': 'warm'},\n",
       " 'lamp': {'none': 'off'},\n",
       " 'newspaper': {'none': 'not brought'},\n",
       " 'juice': {'none': 'not brought'},\n",
       " 'socks': {'none': 'not brought'},\n",
       " 'chinese': {'none': 'off'},\n",
       " 'korean': {'none': 'off'},\n",
       " 'english': {'none': 'on'},\n",
       " 'german': {'none': 'off'},\n",
       " 'shoes': {'none': 'not brought'}}"
      ]
     },
     "execution_count": 9,
     "metadata": {},
     "output_type": "execute_result"
    }
   ],
   "source": [
    "states_main"
   ]
  }
 ],
 "metadata": {
  "kernelspec": {
   "display_name": "sr-test-venv",
   "language": "python",
   "name": "sr-test-venv"
  },
  "language_info": {
   "codemirror_mode": {
    "name": "ipython",
    "version": 3
   },
   "file_extension": ".py",
   "mimetype": "text/x-python",
   "name": "python",
   "nbconvert_exporter": "python",
   "pygments_lexer": "ipython3",
   "version": "3.10.1"
  }
 },
 "nbformat": 4,
 "nbformat_minor": 5
}

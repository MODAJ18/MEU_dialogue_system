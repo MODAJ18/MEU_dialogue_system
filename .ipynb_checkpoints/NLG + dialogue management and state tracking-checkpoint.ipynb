{
 "cells": [
  {
   "cell_type": "code",
   "execution_count": 4,
   "id": "2e140872",
   "metadata": {},
   "outputs": [],
   "source": [
    "import pandas as pd"
   ]
  },
  {
   "cell_type": "code",
   "execution_count": 5,
   "id": "861130c3",
   "metadata": {},
   "outputs": [
    {
     "name": "stdout",
     "output_type": "stream",
     "text": [
      "There are 23132 rows and 7 columns\n"
     ]
    }
   ],
   "source": [
    "nRowsRead = None\n",
    "\n",
    "fs_df = pd.read_csv('Data/fluent_speech_commands_dataset/data/train_data.csv', delimiter=',', nrows = nRowsRead)\n",
    "fs_df.dataframeName = 'train_data.csv'\n",
    "nRow, nCol = fs_df.shape\n",
    "print(f'There are {nRow} rows and {nCol} columns')"
   ]
  },
  {
   "cell_type": "code",
   "execution_count": 6,
   "id": "aaa8386d",
   "metadata": {},
   "outputs": [
    {
     "data": {
      "text/html": [
       "<div>\n",
       "<style scoped>\n",
       "    .dataframe tbody tr th:only-of-type {\n",
       "        vertical-align: middle;\n",
       "    }\n",
       "\n",
       "    .dataframe tbody tr th {\n",
       "        vertical-align: top;\n",
       "    }\n",
       "\n",
       "    .dataframe thead th {\n",
       "        text-align: right;\n",
       "    }\n",
       "</style>\n",
       "<table border=\"1\" class=\"dataframe\">\n",
       "  <thead>\n",
       "    <tr style=\"text-align: right;\">\n",
       "      <th></th>\n",
       "      <th>Unnamed: 0</th>\n",
       "      <th>path</th>\n",
       "      <th>speakerId</th>\n",
       "      <th>transcription</th>\n",
       "      <th>action</th>\n",
       "      <th>object</th>\n",
       "      <th>location</th>\n",
       "    </tr>\n",
       "  </thead>\n",
       "  <tbody>\n",
       "    <tr>\n",
       "      <th>0</th>\n",
       "      <td>0</td>\n",
       "      <td>wavs/speakers/2BqVo8kVB2Skwgyb/0a3129c0-4474-1...</td>\n",
       "      <td>2BqVo8kVB2Skwgyb</td>\n",
       "      <td>Change language</td>\n",
       "      <td>change language</td>\n",
       "      <td>none</td>\n",
       "      <td>none</td>\n",
       "    </tr>\n",
       "    <tr>\n",
       "      <th>1</th>\n",
       "      <td>1</td>\n",
       "      <td>wavs/speakers/2BqVo8kVB2Skwgyb/0ee42a80-4474-1...</td>\n",
       "      <td>2BqVo8kVB2Skwgyb</td>\n",
       "      <td>Resume</td>\n",
       "      <td>activate</td>\n",
       "      <td>music</td>\n",
       "      <td>none</td>\n",
       "    </tr>\n",
       "    <tr>\n",
       "      <th>2</th>\n",
       "      <td>2</td>\n",
       "      <td>wavs/speakers/2BqVo8kVB2Skwgyb/144d5be0-4474-1...</td>\n",
       "      <td>2BqVo8kVB2Skwgyb</td>\n",
       "      <td>Turn the lights on</td>\n",
       "      <td>activate</td>\n",
       "      <td>lights</td>\n",
       "      <td>none</td>\n",
       "    </tr>\n",
       "    <tr>\n",
       "      <th>3</th>\n",
       "      <td>3</td>\n",
       "      <td>wavs/speakers/2BqVo8kVB2Skwgyb/1811b6e0-4474-1...</td>\n",
       "      <td>2BqVo8kVB2Skwgyb</td>\n",
       "      <td>Switch on the lights</td>\n",
       "      <td>activate</td>\n",
       "      <td>lights</td>\n",
       "      <td>none</td>\n",
       "    </tr>\n",
       "    <tr>\n",
       "      <th>4</th>\n",
       "      <td>4</td>\n",
       "      <td>wavs/speakers/2BqVo8kVB2Skwgyb/1d9f3920-4474-1...</td>\n",
       "      <td>2BqVo8kVB2Skwgyb</td>\n",
       "      <td>Switch off the lights</td>\n",
       "      <td>deactivate</td>\n",
       "      <td>lights</td>\n",
       "      <td>none</td>\n",
       "    </tr>\n",
       "    <tr>\n",
       "      <th>...</th>\n",
       "      <td>...</td>\n",
       "      <td>...</td>\n",
       "      <td>...</td>\n",
       "      <td>...</td>\n",
       "      <td>...</td>\n",
       "      <td>...</td>\n",
       "      <td>...</td>\n",
       "    </tr>\n",
       "    <tr>\n",
       "      <th>23127</th>\n",
       "      <td>23127</td>\n",
       "      <td>wavs/speakers/zZezMeg5XvcbRdg3/b946b340-45e0-1...</td>\n",
       "      <td>zZezMeg5XvcbRdg3</td>\n",
       "      <td>I need to practice my Chinese. Switch the lang...</td>\n",
       "      <td>change language</td>\n",
       "      <td>Chinese</td>\n",
       "      <td>none</td>\n",
       "    </tr>\n",
       "    <tr>\n",
       "      <th>23128</th>\n",
       "      <td>23128</td>\n",
       "      <td>wavs/speakers/zZezMeg5XvcbRdg3/beb27cb0-45e0-1...</td>\n",
       "      <td>zZezMeg5XvcbRdg3</td>\n",
       "      <td>I need to practice my German. Switch the language</td>\n",
       "      <td>change language</td>\n",
       "      <td>German</td>\n",
       "      <td>none</td>\n",
       "    </tr>\n",
       "    <tr>\n",
       "      <th>23129</th>\n",
       "      <td>23129</td>\n",
       "      <td>wavs/speakers/zZezMeg5XvcbRdg3/c45f94e0-45e0-1...</td>\n",
       "      <td>zZezMeg5XvcbRdg3</td>\n",
       "      <td>I need to practice my Korean. Switch the language</td>\n",
       "      <td>change language</td>\n",
       "      <td>Korean</td>\n",
       "      <td>none</td>\n",
       "    </tr>\n",
       "    <tr>\n",
       "      <th>23130</th>\n",
       "      <td>23130</td>\n",
       "      <td>wavs/speakers/zZezMeg5XvcbRdg3/ca60c080-45e0-1...</td>\n",
       "      <td>zZezMeg5XvcbRdg3</td>\n",
       "      <td>I need to practice my English. Switch the lang...</td>\n",
       "      <td>change language</td>\n",
       "      <td>English</td>\n",
       "      <td>none</td>\n",
       "    </tr>\n",
       "    <tr>\n",
       "      <th>23131</th>\n",
       "      <td>23131</td>\n",
       "      <td>wavs/speakers/zZezMeg5XvcbRdg3/cf10b400-45e0-1...</td>\n",
       "      <td>zZezMeg5XvcbRdg3</td>\n",
       "      <td>Turn the washroom lights off</td>\n",
       "      <td>deactivate</td>\n",
       "      <td>lights</td>\n",
       "      <td>washroom</td>\n",
       "    </tr>\n",
       "  </tbody>\n",
       "</table>\n",
       "<p>23132 rows × 7 columns</p>\n",
       "</div>"
      ],
      "text/plain": [
       "       Unnamed: 0                                               path  \\\n",
       "0               0  wavs/speakers/2BqVo8kVB2Skwgyb/0a3129c0-4474-1...   \n",
       "1               1  wavs/speakers/2BqVo8kVB2Skwgyb/0ee42a80-4474-1...   \n",
       "2               2  wavs/speakers/2BqVo8kVB2Skwgyb/144d5be0-4474-1...   \n",
       "3               3  wavs/speakers/2BqVo8kVB2Skwgyb/1811b6e0-4474-1...   \n",
       "4               4  wavs/speakers/2BqVo8kVB2Skwgyb/1d9f3920-4474-1...   \n",
       "...           ...                                                ...   \n",
       "23127       23127  wavs/speakers/zZezMeg5XvcbRdg3/b946b340-45e0-1...   \n",
       "23128       23128  wavs/speakers/zZezMeg5XvcbRdg3/beb27cb0-45e0-1...   \n",
       "23129       23129  wavs/speakers/zZezMeg5XvcbRdg3/c45f94e0-45e0-1...   \n",
       "23130       23130  wavs/speakers/zZezMeg5XvcbRdg3/ca60c080-45e0-1...   \n",
       "23131       23131  wavs/speakers/zZezMeg5XvcbRdg3/cf10b400-45e0-1...   \n",
       "\n",
       "              speakerId                                      transcription  \\\n",
       "0      2BqVo8kVB2Skwgyb                                    Change language   \n",
       "1      2BqVo8kVB2Skwgyb                                             Resume   \n",
       "2      2BqVo8kVB2Skwgyb                                 Turn the lights on   \n",
       "3      2BqVo8kVB2Skwgyb                               Switch on the lights   \n",
       "4      2BqVo8kVB2Skwgyb                              Switch off the lights   \n",
       "...                 ...                                                ...   \n",
       "23127  zZezMeg5XvcbRdg3  I need to practice my Chinese. Switch the lang...   \n",
       "23128  zZezMeg5XvcbRdg3  I need to practice my German. Switch the language   \n",
       "23129  zZezMeg5XvcbRdg3  I need to practice my Korean. Switch the language   \n",
       "23130  zZezMeg5XvcbRdg3  I need to practice my English. Switch the lang...   \n",
       "23131  zZezMeg5XvcbRdg3                       Turn the washroom lights off   \n",
       "\n",
       "                action   object  location  \n",
       "0      change language     none      none  \n",
       "1             activate    music      none  \n",
       "2             activate   lights      none  \n",
       "3             activate   lights      none  \n",
       "4           deactivate   lights      none  \n",
       "...                ...      ...       ...  \n",
       "23127  change language  Chinese      none  \n",
       "23128  change language   German      none  \n",
       "23129  change language   Korean      none  \n",
       "23130  change language  English      none  \n",
       "23131       deactivate   lights  washroom  \n",
       "\n",
       "[23132 rows x 7 columns]"
      ]
     },
     "execution_count": 6,
     "metadata": {},
     "output_type": "execute_result"
    }
   ],
   "source": [
    "fs_df"
   ]
  },
  {
   "cell_type": "code",
   "execution_count": 7,
   "id": "762777db",
   "metadata": {},
   "outputs": [
    {
     "data": {
      "text/plain": [
       "['volume_none',\n",
       " 'heat_washroom',\n",
       " 'heat_none',\n",
       " 'lights_washroom',\n",
       " 'lights_kitchen',\n",
       " 'music_none',\n",
       " 'heat_bedroom',\n",
       " 'heat_kitchen',\n",
       " 'lights_bedroom',\n",
       " 'lights_none',\n",
       " 'lamp_none',\n",
       " 'newspaper_none',\n",
       " 'socks_none',\n",
       " 'shoes_none',\n",
       " 'juice_none',\n",
       " 'Chinese_none',\n",
       " 'English_none',\n",
       " 'Korean_none',\n",
       " 'German_none']"
      ]
     },
     "execution_count": 7,
     "metadata": {},
     "output_type": "execute_result"
    }
   ],
   "source": [
    "possible_objects = list(map(lambda x: x[0]+\"_\"+x[1], fs_df[[\"object\", \"location\"]].value_counts().index.to_list()))\n",
    "possible_objects.remove(\"none_none\")\n",
    "possible_objects"
   ]
  },
  {
   "cell_type": "markdown",
   "id": "bbb731e2",
   "metadata": {},
   "source": [
    "## `Dialogue management and State tracking`"
   ]
  },
  {
   "cell_type": "code",
   "execution_count": 8,
   "id": "414b6df6",
   "metadata": {},
   "outputs": [],
   "source": [
    "actions_l = ['change language', 'activate', 'deactivate', 'increase', 'decrease', 'bring']\n",
    "object_l = ['none', 'music', 'lights', 'volume', 'heat', 'lamp', 'newspaper', 'juice', 'socks', \n",
    "            'Chinese', 'Korean', 'English', 'German', 'shoes']\n",
    "location_l = ['none', 'kitchen', 'bedroom', 'washroom']"
   ]
  },
  {
   "cell_type": "code",
   "execution_count": 9,
   "id": "f9c65a11",
   "metadata": {},
   "outputs": [],
   "source": [
    "# seperate tables in DB\n",
    "music_states = [\"on\", \"off\"]\n",
    "lights_states = [\"on\", \"off\"]\n",
    "volume_states = list(map(lambda x: str(x), list(range(10))))\n",
    "heat_states = [\"hot\", \"warm\", \"cool\", \"cold\"]\n",
    "lamp_states = [\"on\", \"off\"]\n",
    "newspaper_states = [\"brought\", \"not brought\"]\n",
    "juice_states = [\"brought\", \"not brought\"]\n",
    "socks_states = [\"brought\", \"not brought\"]\n",
    "chinese_states = [\"on\", \"off\"]\n",
    "korean_states = [\"on\", \"off\"]\n",
    "english_states = [\"on\", \"off\"]\n",
    "german_states = [\"on\", \"off\"]\n",
    "shoes_states = [\"brought\", \"not brought\"]\n",
    "allowed_states = {\"music\": music_states, \n",
    "                  \"lights\": lights_states, \n",
    "                  \"volume\": volume_states,\n",
    "                  \"heat\": heat_states,\n",
    "                  \"lamp\": lamp_states,\n",
    "                  \"newspaper\": newspaper_states,\n",
    "                  \"juice\": juice_states,\n",
    "                  \"socks\": socks_states,\n",
    "                  \"chinese\": chinese_states,\n",
    "                  \"korean\": korean_states,\n",
    "                  \"english\": english_states,\n",
    "                  \"german\": german_states,\n",
    "                  \"shoes\": shoes_states}\n",
    "\n",
    "\n",
    "# key table (foreign key + state)\n",
    "states = {\"music\": {\"none\": \"off\"}, \n",
    "          \"lights\": {\"none\": \"on\", \"bedroom\": \"on\", \"washroom\":\"on\", \"kitchen\": \"on\"}, \n",
    "          \"volume\": {\"none\":\"3\"},\n",
    "          \"heat\": {\"none\":\"warm\", \"bedroom\":\"warm\", \"washroom\":\"warm\", \"kitchen\": \"warm\"},\n",
    "          \"lamp\": {\"none\": \"off\"},\n",
    "          \"newspaper\": {\"none\": \"not brought\"},\n",
    "          \"juice\": {\"none\": \"not brought\"},\n",
    "          \"socks\": {\"none\": \"not brought\"},\n",
    "          \"chinese\": {\"none\": \"off\"},\n",
    "          \"korean\": {\"none\": \"off\"},\n",
    "          \"english\": {\"none\": \"on\"},\n",
    "          \"german\": {\"none\": \"off\"},\n",
    "          \"shoes\": {\"none\": \"not brought\"}}"
   ]
  },
  {
   "cell_type": "code",
   "execution_count": 10,
   "id": "78028d14",
   "metadata": {},
   "outputs": [],
   "source": [
    "current_intent_test = {'action': 'deactivate', 'object': 'volume', 'location': 'none'}"
   ]
  },
  {
   "cell_type": "markdown",
   "id": "26e7ac7e",
   "metadata": {},
   "source": [
    "**activate, deactivate** -----> music, lights, lamp\n",
    "\n",
    "**bring** -----> newspaper, juice, socks, shoes\n",
    "\n",
    "**increase, decrease** ------> volume, heat"
   ]
  },
  {
   "cell_type": "code",
   "execution_count": 11,
   "id": "c6534599",
   "metadata": {},
   "outputs": [],
   "source": [
    "response = []\n",
    "\n",
    "def change_language_act(object_, location_, states, prompt):\n",
    "    if location_ != \"none\":\n",
    "        prompt.append(\"specifying location for language change is not necessary\")\n",
    "        location_ = \"none\"\n",
    "    if object_ == \"none\" or object_ == \"English\":\n",
    "        states[\"chinese\"][location_] = \"off\"\n",
    "        states[\"korean\"][location_] = \"off\"\n",
    "        states[\"german\"][location_] = \"off\"\n",
    "        states[\"english\"][location_] = \"on\"\n",
    "    elif object_ == \"Chinese\":\n",
    "        states[\"chinese\"][location_] = \"on\"\n",
    "        states[\"korean\"][location_] = \"off\"\n",
    "        states[\"german\"][location_] = \"off\"\n",
    "        states[\"english\"][location_] = \"off\"\n",
    "    elif object_ == \"Korean\":\n",
    "        states[\"chinese\"][location_] = \"off\"\n",
    "        states[\"korean\"][location_] = \"on\"\n",
    "        states[\"german\"][location_] = \"off\"\n",
    "        states[\"english\"][location_] = \"off\"  \n",
    "    elif object_ == \"German\":\n",
    "        states[\"chinese\"][location_] = \"off\"\n",
    "        states[\"korean\"][location_] = \"off\"\n",
    "        states[\"german\"][location_] = \"on\"\n",
    "        states[\"english\"][location_] = \"off\"\n",
    "    else: \n",
    "        prompt.append(\"wrong prompt! please clarify which language are you referring to, \\\n",
    "        {} language is not available\".format(object_))\n",
    "    return states, prompt\n",
    "\n",
    "def activate_act(object_, location_, states, prompt):        \n",
    "    if object_ == \"music\":\n",
    "        if location_ != \"none\":\n",
    "            prompt.append(\"specifying location for music activation is not necessary\")\n",
    "            location_ = \"none\"\n",
    "        states[object_][location_] = \"on\"\n",
    "    elif object_ == \"lights\":\n",
    "        if location_ in states[object_].keys():\n",
    "            states[object_][location_] = \"on\"\n",
    "        else:\n",
    "            prompt.append(\"you specified a wrong location, please try again\")\n",
    "    elif object_ == \"lamp\":\n",
    "        if location_ != \"none\":\n",
    "            prompt.append(\"specifying location for lamp activation is not necessary\")\n",
    "            location_ = \"none\"\n",
    "        states[object_][location_] = \"on\"\n",
    "    else:\n",
    "        prompt.append(\"wrong prompt! please clarify which object are you referring to, \\\n",
    "        {} object is not available\".format(object_))\n",
    "    return states, prompt\n",
    "\n",
    "def deactivate_act(object_, location_, states, prompt):\n",
    "    if object_ == \"music\":\n",
    "        if location_ != \"none\":\n",
    "            prompt.append(\"specifying location for music activation is not necessary\")\n",
    "            location_ = \"none\"\n",
    "        states[object_][location_] = \"off\"\n",
    "    elif object_ == \"lights\":\n",
    "        if location_ in states[object_].keys():\n",
    "            states[object_][location_] = \"off\"\n",
    "        else:\n",
    "            prompt.append(\"you specified a wrong location, please try again\")\n",
    "    elif object_ == \"lamp\":\n",
    "        if location_ != \"none\":\n",
    "            prompt.append(\"specifying location for lamp activation is not necessary\")\n",
    "            location_ = \"none\"\n",
    "        states[object_][location_] = \"off\"\n",
    "    else:\n",
    "        prompt.append(\"wrong prompt! please clarify which object are you referring to, {} object is not available\".format(object_))\n",
    "    return states, prompt\n",
    "\n",
    "def increase_act(object_, location_, states, prompt):\n",
    "    if object_ == \"volume\":\n",
    "        if location_ != \"none\":\n",
    "            prompt.append(\"specifying location for volume is not necessary\")\n",
    "            location_ = \"none\"\n",
    "        loc_state = allowed_states[object_].index(states[object_][location_])\n",
    "        increase = min(loc_state + 1, len(allowed_states[object_])-1)\n",
    "        states[object_][location_] = str(increase) \n",
    "    elif object_ == \"heat\":\n",
    "        if location_ in states[object_].keys():\n",
    "            loc_state = allowed_states[object_].index(states[object_][location_])\n",
    "            increase = min(loc_state + 1, len(allowed_states[object_])-1)\n",
    "            states[object_][location_] = str(increase) \n",
    "        else:\n",
    "            prompt.append(\"you specified a wrong location, please try again\")\n",
    "    return states, prompt\n",
    "            \n",
    "            \n",
    "def decrease_act(object_, location_, states, prompt):\n",
    "    if object_ == \"volume\":\n",
    "        if location_ != \"none\":\n",
    "            prompt.append(\"specifying location for volume is not necessary\")\n",
    "            location_ = \"none\"\n",
    "            \n",
    "        loc_state = allowed_states[object_].index(states[object_][location_])\n",
    "        decrease = max(loc_state - 1, 0)\n",
    "        states[object_][location_] = str(decrease) \n",
    "    elif object_ == \"heat\":\n",
    "        if location_ in states[object_].keys():\n",
    "            loc_state = allowed_states[object_].index(states[object_][location_])\n",
    "            decrease = max(loc_state - 1, 0)\n",
    "            states[object_][location_] = str(decrease) \n",
    "        else:\n",
    "            prompt.append(\"you specified a wrong location, please try again\")\n",
    "    return states, prompt\n",
    "            \n",
    "def bring_act(object_, location_, states, prompt):\n",
    "    newspaper, juice, socks, shoes\n",
    "    if object_ == \"newspaper\":\n",
    "        if location_ != \"none\":\n",
    "            prompt.append(\"specifying location for bringing newspaper is not necessary\")\n",
    "            location_ = \"none\"\n",
    "        states[object_][location_] = \"brought\"\n",
    "    elif object_ == \"juice\":\n",
    "        if location_ != \"none\":\n",
    "            prompt.append(\"specifying location for bringing juice is not necessary\")\n",
    "            location_ = \"none\"\n",
    "        states[object_][location_] = \"brought\"\n",
    "    elif object_ == \"socks\":\n",
    "        if location_ != \"none\":\n",
    "            prompt.append(\"specifying location for bringing socks is not necessary\")\n",
    "            location_ = \"none\"\n",
    "        states[object_][location_] = \"brought\"\n",
    "    elif object_ == \"shoes\":\n",
    "        if location_ != \"none\":\n",
    "            prompt.append(\"specifying location for bringing shoes is not necessary\")\n",
    "            location_ = \"none\"\n",
    "        states[object_][location_] = \"brought\"\n",
    "    else:\n",
    "        prompt.append(\"wrong prompt! please clarify which object are you referring to, \\\n",
    "        {} object is not available\".format(object_))\n",
    "    return states, prompt\n",
    "\n",
    "\n",
    "def manage_dialog(current_intent, states):\n",
    "    prev_state = states.copy()\n",
    "    prompt = []\n",
    "    \n",
    "    if current_intent[\"action\"] == 'change language':        \n",
    "        states, prompt = change_language_act(current_intent[\"object\"], current_intent[\"location\"], states, prompt)\n",
    "    elif current_intent[\"action\"] == 'activate':\n",
    "        states, prompt = activate_act(current_intent[\"object\"], current_intent[\"location\"], states, prompt)\n",
    "    elif current_intent[\"action\"] == 'deactivate':\n",
    "        states, prompt = deactivate_act(current_intent[\"object\"], current_intent[\"location\"], states, prompt)\n",
    "    elif current_intent[\"action\"] == 'increase':\n",
    "        states, prompt = increase_act(current_intent[\"object\"], current_intent[\"location\"], states, prompt)\n",
    "    elif current_intent[\"action\"] == 'decrease':\n",
    "        states, prompt = decrease_act(current_intent[\"object\"], current_intent[\"location\"], states, prompt)\n",
    "    elif current_intent[\"action\"] == 'bring':\n",
    "        states, prompt = bring_act(current_intent[\"object\"], current_intent[\"location\"], states, prompt)\n",
    "            \n",
    "    return states, prompt"
   ]
  },
  {
   "cell_type": "code",
   "execution_count": 12,
   "id": "769bb5ce",
   "metadata": {},
   "outputs": [],
   "source": [
    "current_intent_test = {'action': 'increase', 'object': 'volume', 'location': 'none'}\n",
    "states_main, prompt_main = manage_dialog(current_intent_test, states) "
   ]
  },
  {
   "cell_type": "code",
   "execution_count": 13,
   "id": "17813f81",
   "metadata": {},
   "outputs": [
    {
     "data": {
      "text/plain": [
       "{'music': {'none': 'off'},\n",
       " 'lights': {'none': 'on', 'bedroom': 'on', 'washroom': 'on', 'kitchen': 'on'},\n",
       " 'volume': {'none': '4'},\n",
       " 'heat': {'none': 'warm',\n",
       "  'bedroom': 'warm',\n",
       "  'washroom': 'warm',\n",
       "  'kitchen': 'warm'},\n",
       " 'lamp': {'none': 'off'},\n",
       " 'newspaper': {'none': 'not brought'},\n",
       " 'juice': {'none': 'not brought'},\n",
       " 'socks': {'none': 'not brought'},\n",
       " 'chinese': {'none': 'off'},\n",
       " 'korean': {'none': 'off'},\n",
       " 'english': {'none': 'on'},\n",
       " 'german': {'none': 'off'},\n",
       " 'shoes': {'none': 'not brought'}}"
      ]
     },
     "execution_count": 13,
     "metadata": {},
     "output_type": "execute_result"
    }
   ],
   "source": [
    "states_main"
   ]
  },
  {
   "cell_type": "code",
   "execution_count": 14,
   "id": "ec52249a",
   "metadata": {},
   "outputs": [
    {
     "data": {
      "text/plain": [
       "[]"
      ]
     },
     "execution_count": 14,
     "metadata": {},
     "output_type": "execute_result"
    }
   ],
   "source": [
    "prompt_main"
   ]
  },
  {
   "cell_type": "markdown",
   "id": "fb031b89",
   "metadata": {},
   "source": [
    "## `NLG`"
   ]
  },
  {
   "cell_type": "code",
   "execution_count": 1,
   "id": "d6af37e0",
   "metadata": {},
   "outputs": [
    {
     "name": "stderr",
     "output_type": "stream",
     "text": [
      "The cache for model files in Transformers v4.22.0 has been updated. Migrating your old cache. This is a one-time only operation. You can interrupt this and resume the migration later on by calling `transformers.utils.move_cache()`.\n"
     ]
    },
    {
     "name": "stdout",
     "output_type": "stream",
     "text": [
      "Moving 39 files to the new cache system\n"
     ]
    },
    {
     "data": {
      "application/vnd.jupyter.widget-view+json": {
       "model_id": "8d5c0418fc1f4f099afdd999ed15e127",
       "version_major": 2,
       "version_minor": 0
      },
      "text/plain": [
       "  0%|          | 0/39 [00:00<?, ?it/s]"
      ]
     },
     "metadata": {},
     "output_type": "display_data"
    },
    {
     "name": "stderr",
     "output_type": "stream",
     "text": [
      "C:\\Users\\modaj\\OneDrive\\Documents\\Personal\\Uni\\NLP\\project\\test-venv\\lib\\site-packages\\huggingface_hub\\file_download.py:127: UserWarning: `huggingface_hub` cache-system uses symlinks by default to efficiently store duplicated files but your machine does not support them in C:\\Users\\modaj\\.cache\\huggingface\\hub. Caching files will still work but in a degraded version that might require more space on your disk. This warning can be disabled by setting the `HF_HUB_DISABLE_SYMLINKS_WARNING` environment variable. For more details, see https://huggingface.co/docs/huggingface_hub/how-to-cache#limitations.\n",
      "To support symlinks on Windows, you either need to activate Developer Mode or to run Python as an administrator. In order to see activate developer mode, see this article: https://docs.microsoft.com/en-us/windows/apps/get-started/enable-your-device-for-development\n",
      "  warnings.warn(message)\n"
     ]
    },
    {
     "data": {
      "application/vnd.jupyter.widget-view+json": {
       "model_id": "e57f9f2813e84a6e998de448a660706b",
       "version_major": 2,
       "version_minor": 0
      },
      "text/plain": [
       "Downloading:   0%|          | 0.00/665 [00:00<?, ?B/s]"
      ]
     },
     "metadata": {},
     "output_type": "display_data"
    },
    {
     "data": {
      "application/vnd.jupyter.widget-view+json": {
       "model_id": "83617ee7e9b44caabd2dcd529cf05691",
       "version_major": 2,
       "version_minor": 0
      },
      "text/plain": [
       "Downloading:   0%|          | 0.00/548M [00:00<?, ?B/s]"
      ]
     },
     "metadata": {},
     "output_type": "display_data"
    },
    {
     "data": {
      "application/vnd.jupyter.widget-view+json": {
       "model_id": "d65b648a7d12403499c71afbbe77c05b",
       "version_major": 2,
       "version_minor": 0
      },
      "text/plain": [
       "Downloading:   0%|          | 0.00/1.04M [00:00<?, ?B/s]"
      ]
     },
     "metadata": {},
     "output_type": "display_data"
    },
    {
     "data": {
      "application/vnd.jupyter.widget-view+json": {
       "model_id": "3e65a5c7ed6d42cc85164b9b6fd61751",
       "version_major": 2,
       "version_minor": 0
      },
      "text/plain": [
       "Downloading:   0%|          | 0.00/456k [00:00<?, ?B/s]"
      ]
     },
     "metadata": {},
     "output_type": "display_data"
    },
    {
     "data": {
      "application/vnd.jupyter.widget-view+json": {
       "model_id": "73d578a328a2414a9536375f77a781f4",
       "version_major": 2,
       "version_minor": 0
      },
      "text/plain": [
       "Downloading:   0%|          | 0.00/1.36M [00:00<?, ?B/s]"
      ]
     },
     "metadata": {},
     "output_type": "display_data"
    },
    {
     "name": "stderr",
     "output_type": "stream",
     "text": [
      "Setting `pad_token_id` to `eos_token_id`:50256 for open-end generation.\n"
     ]
    },
    {
     "data": {
      "text/plain": [
       "[{'generated_text': \"Hello, I'm a language model, I'm writing a new language for you. But first, I'd like to tell you about the language itself\"},\n",
       " {'generated_text': \"Hello, I'm a language model, and I'm trying to be as expressive as possible. In order to be expressive, it is necessary to know\"},\n",
       " {'generated_text': \"Hello, I'm a language model, so I don't get much of a license anymore, but I'm probably more familiar with other languages on that\"},\n",
       " {'generated_text': \"Hello, I'm a language model, a functional model... It's not me, it's me!\\n\\nI won't bore you with how\"},\n",
       " {'generated_text': \"Hello, I'm a language model, not an object model.\\n\\nIn a nutshell, I need to give language model a set of properties that\"}]"
      ]
     },
     "execution_count": 1,
     "metadata": {},
     "output_type": "execute_result"
    }
   ],
   "source": [
    "from transformers import pipeline, set_seed"
   ]
  },
  {
   "cell_type": "code",
   "execution_count": 19,
   "id": "6aa0d36f",
   "metadata": {},
   "outputs": [
    {
     "name": "stdout",
     "output_type": "stream",
     "text": [
      "e\n"
     ]
    }
   ],
   "source": [
    "keys = \"\"\n",
    "for intent_key in current_intent_test.keys():\n",
    "    intent_val = current_intent_test[intent_key]\n",
    "    if intent_val != \"none\":\n",
    "        keys += intent_val + \" \"\n",
    "keys = keys.strip()\n",
    "\n",
    "print(keys[-1])"
   ]
  },
  {
   "cell_type": "code",
   "execution_count": 3,
   "id": "21258af5",
   "metadata": {},
   "outputs": [
    {
     "name": "stderr",
     "output_type": "stream",
     "text": [
      "Setting `pad_token_id` to `eos_token_id`:50256 for open-end generation.\n"
     ]
    },
    {
     "data": {
      "text/plain": [
       "[{'generated_text': \"air conditionors.\\n\\nHowever, it's more expensive than with the normal high-tech, durable, and durable parts.\\n\\nThe new\"},\n",
       " {'generated_text': 'air condition for most parts of the day\\n\\nWhen to Bring Alcohol Anytime\\n\\nMarijuana smoke is best consumed by late into the night to'},\n",
       " {'generated_text': 'air condition was not met.\"\\n\\nOn Sunday afternoon, the woman who has asked not to be named said in a statement: \"I was attacked'},\n",
       " {'generated_text': \"air conditioner, and some of his own blood.\\n\\nThis morning, police detained two men outside the McDonald's.\\n\\nAn elderly couple\"},\n",
       " {'generated_text': 'air condition will result in the patient having the most severe type of head injury or serious injury after surgery.\\n\\nThere are many other medical conditions that'}]"
      ]
     },
     "execution_count": 3,
     "metadata": {},
     "output_type": "execute_result"
    }
   ],
   "source": [
    "generator = pipeline('text-generation', model='gpt2')\n",
    "generator(keys, max_length=30, num_return_sequences=5)"
   ]
  },
  {
   "cell_type": "markdown",
   "id": "67749884",
   "metadata": {},
   "source": [
    "- https://towardsdatascience.com/natural-language-generation-part-1-back-to-basics-2f0b2654624f"
   ]
  }
 ],
 "metadata": {
  "kernelspec": {
   "display_name": "sr-test-venv",
   "language": "python",
   "name": "sr-test-venv"
  },
  "language_info": {
   "codemirror_mode": {
    "name": "ipython",
    "version": 3
   },
   "file_extension": ".py",
   "mimetype": "text/x-python",
   "name": "python",
   "nbconvert_exporter": "python",
   "pygments_lexer": "ipython3",
   "version": "3.10.1"
  }
 },
 "nbformat": 4,
 "nbformat_minor": 5
}

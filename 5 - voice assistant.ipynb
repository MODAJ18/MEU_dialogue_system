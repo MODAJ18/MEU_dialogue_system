{
 "cells": [
  {
   "cell_type": "code",
   "execution_count": 10,
   "id": "7ac75fe4",
   "metadata": {},
   "outputs": [],
   "source": [
    "import speech_recognition as sr\n",
    "\n",
    "import webbrowser\n",
    "import pyttsx3\n",
    "import datetime\n",
    "import wikipedia\n",
    "import os"
   ]
  },
  {
   "cell_type": "markdown",
   "id": "2e085a38",
   "metadata": {},
   "source": [
    "## `Setup`"
   ]
  },
  {
   "cell_type": "code",
   "execution_count": 12,
   "id": "0a04a7d1",
   "metadata": {},
   "outputs": [],
   "source": [
    "engine = pyttsx3.init('sapi5')\n",
    "voices = engine.getProperty('voices') #gets you the details of the current voice\n",
    "engine.setProperty('voice', voices[1].id)  # 0-male voice , 1-female voice"
   ]
  },
  {
   "cell_type": "code",
   "execution_count": 13,
   "id": "e299682d",
   "metadata": {},
   "outputs": [
    {
     "name": "stdout",
     "output_type": "stream",
     "text": [
      "200\n"
     ]
    }
   ],
   "source": [
    "rate = engine.getProperty('rate')   # getting details of current speaking rate\n",
    "print (rate)              #printing current voice rate"
   ]
  },
  {
   "cell_type": "code",
   "execution_count": 34,
   "id": "cfe10685",
   "metadata": {},
   "outputs": [],
   "source": [
    "engine.setProperty('rate', 165) "
   ]
  },
  {
   "cell_type": "code",
   "execution_count": 35,
   "id": "0eaa827e",
   "metadata": {},
   "outputs": [],
   "source": [
    "def speak(audio):   \n",
    "    engine.say(audio)    \n",
    "    engine.runAndWait()  "
   ]
  },
  {
   "cell_type": "code",
   "execution_count": 30,
   "id": "35148e13",
   "metadata": {},
   "outputs": [],
   "source": [
    "def greet_time():\n",
    "    hour = int(datetime.datetime.now().hour)\n",
    "    if hour>=0 and hour<12:\n",
    "        speak(\"Good Morning!\")    \n",
    "    \n",
    "    elif hour>=12 and hour<18:\n",
    "        speak(\"Good Afternoon!\")       \n",
    "    \n",
    "    else:\n",
    "        speak(\"Good Evening!\")   "
   ]
  },
  {
   "cell_type": "code",
   "execution_count": 31,
   "id": "49e8181d",
   "metadata": {},
   "outputs": [],
   "source": [
    "def takeCommand():\n",
    "    #It takes microphone input from the user and returns string output    \n",
    "    r = sr.Recognizer()\n",
    "    with sr.Microphone() as source:\n",
    "        print(\"Listening...\")\n",
    "        r.pause_threshold = 1\n",
    "        audio = r.listen(source)\n",
    "        try:\n",
    "            print(\"Recognizing...\")    \n",
    "            query = r.recognize_google(audio, language='en-in') #Using google for voice recognition.\n",
    "            print(f\"User said: {query}\\n\")  #User query will be printed.    \n",
    "        except Exception as e:\n",
    "            # print(e)  use only if you want to print the error!\n",
    "            print(\"Say that again please...\")   #Say that again will be printed in case of improper voice \n",
    "            return \"None\" #None string will be returned\n",
    "        return query"
   ]
  },
  {
   "cell_type": "markdown",
   "id": "f3f3fdc6",
   "metadata": {},
   "source": [
    "## `Loop`"
   ]
  },
  {
   "cell_type": "code",
   "execution_count": null,
   "id": "8f912033",
   "metadata": {},
   "outputs": [],
   "source": [
    "greet_time()\n",
    "while True:\n",
    "    query = takeCommand().lower() #Converting user query into lower case     \n",
    "    \n",
    "    # Logic for executing tasks based on query\n",
    "    if 'wikipedia' in query:  #if wikipedia found in the query then this block will be executed\n",
    "        speak('Searching Wikipedia...')\n",
    "        query = query.replace(\"wikipedia\", \"\")\n",
    "        if query == \"\":\n",
    "            query = \"nothing\"\n",
    "        else:\n",
    "            query = \"what is life?\"\n",
    "        results = wikipedia.summary(query, sentences=5) \n",
    "        speak(\"According to Wikipedia\")\n",
    "        print(results)\n",
    "        speak(results)\n",
    "        \n",
    "    elif 'open youtube' in query:\n",
    "        webbrowser.open(\"youtube.com\")\n",
    "        \n",
    "    elif 'open google' in query:\n",
    "        webbrowser.open(\"google.com\")\n",
    "        \n",
    "    elif 'play music' in query:\n",
    "        music_dir = 'music_dir_of_the_user'\n",
    "        songs = os.listdir(music_dir)\n",
    "        print(songs)    \n",
    "        os.startfile(os.path.join(music_dir, songs[0]))\n",
    "        \n",
    "    elif 'the time' in query:\n",
    "        strTime = datetime.datetime.now().strftime(\"%H:%M:%S\")    \n",
    "        speak(f\"Sir, the time is {strTime}\")\n",
    "        \n",
    "    elif ('open stackoverflow' in query) or ('open stack overflow' in query):                           \n",
    "        webbrowser.open('stackoverflow.com')\n",
    "        \n",
    "    elif ('open free code camp' in query) or ('open freecodecamp' in query):            \n",
    "        webbrowser.open('freecodecamp.org')\n",
    "        \n",
    "#     elif 'open code' in query:\n",
    "#         codePath = \"/Applications/PyCharm CE.app\" #that's the code path.\n",
    "#         os.startfile(codePath)\n",
    "        \n",
    "#     elif \"email to receiver's name\" in query:\n",
    "#         try:\n",
    "#             speak(\"What should I say?\")\n",
    "#             content = takeCommand()\n",
    "#             to = \"receiver's email id\"    \n",
    "#             sendEmail(to, content)\n",
    "#             speak(\"Email has been sent!\")\n",
    "#         except Exception as e:\n",
    "#             print(e)\n",
    "#             speak(\"Sorry sir. I am not able to send this email\")\n",
    "    else:\n",
    "        pass\n",
    "        # conversational AI used here"
   ]
  }
 ],
 "metadata": {
  "kernelspec": {
   "display_name": "sr-test-venv",
   "language": "python",
   "name": "sr-test-venv"
  },
  "language_info": {
   "codemirror_mode": {
    "name": "ipython",
    "version": 3
   },
   "file_extension": ".py",
   "mimetype": "text/x-python",
   "name": "python",
   "nbconvert_exporter": "python",
   "pygments_lexer": "ipython3",
   "version": "3.10.1"
  }
 },
 "nbformat": 4,
 "nbformat_minor": 5
}

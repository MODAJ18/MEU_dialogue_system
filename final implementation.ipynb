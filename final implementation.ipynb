{
 "cells": [
  {
   "cell_type": "markdown",
   "id": "2fff7bbd",
   "metadata": {},
   "source": [
    "## keywords for zero shot"
   ]
  },
  {
   "cell_type": "markdown",
   "id": "b0734f76",
   "metadata": {},
   "source": [
    "- I, think -----> conversational"
   ]
  },
  {
   "cell_type": "markdown",
   "id": "f9a58106",
   "metadata": {},
   "source": [
    "# `1) Setup`"
   ]
  },
  {
   "cell_type": "markdown",
   "id": "ff210b2f",
   "metadata": {},
   "source": [
    "### `1.1) Speech Recognition - setup`"
   ]
  },
  {
   "cell_type": "code",
   "execution_count": 1,
   "id": "1ade4f6e",
   "metadata": {},
   "outputs": [],
   "source": [
    "import speech_recognition as sr"
   ]
  },
  {
   "cell_type": "code",
   "execution_count": 2,
   "id": "beb19732",
   "metadata": {},
   "outputs": [],
   "source": [
    "def takeCommand():\n",
    "    #It takes microphone input from the user and returns string output    \n",
    "    r = sr.Recognizer()\n",
    "    with sr.Microphone() as source:\n",
    "        print(\"Listening...\")\n",
    "        r.pause_threshold = 1\n",
    "        audio = r.listen(source)\n",
    "        try:\n",
    "            print(\"Recognizing...\")    \n",
    "            query = r.recognize_google(audio, language='en-in') #Using google for voice recognition.\n",
    "            print(f\"User said: {query}\\n\")  #User query will be printed.    \n",
    "        except Exception as e:\n",
    "            # print(e)  use only if you want to print the error!\n",
    "            print(\"Say that again please...\")   #Say that again will be printed in case of improper voice \n",
    "            return \"None\" #None string will be returned\n",
    "        return query"
   ]
  },
  {
   "cell_type": "markdown",
   "id": "4fde55d1",
   "metadata": {},
   "source": [
    "### `1.2) NLU - setup`"
   ]
  },
  {
   "cell_type": "code",
   "execution_count": 3,
   "id": "bfa2edfa",
   "metadata": {},
   "outputs": [],
   "source": [
    "from transformers import pipeline, Conversation\n",
    "\n",
    "from src.NLU.intention import IntentRecognizer\n",
    "from src.dialog_manager.manage import verify_intent\n",
    "\n",
    "import pickle\n",
    "from parrot import Parrot\n",
    "import torch\n",
    "import warnings\n",
    "\n",
    "warnings.filterwarnings(\"ignore\")"
   ]
  },
  {
   "cell_type": "code",
   "execution_count": 4,
   "id": "29944051",
   "metadata": {},
   "outputs": [],
   "source": [
    "with open('Saved/intention_models.pickle', 'rb') as handle:\n",
    "    intention_models_trained_b = pickle.load(handle)\n",
    "with open('Saved/tfidfV.pickle', 'rb') as handle:\n",
    "    tfidfv_b = pickle.load(handle)\n",
    "with open('Saved/les.pickle', 'rb') as handle:\n",
    "    les_b = pickle.load(handle)"
   ]
  },
  {
   "cell_type": "code",
   "execution_count": 5,
   "id": "7bc8aa11",
   "metadata": {},
   "outputs": [],
   "source": [
    "ir_b = IntentRecognizer()"
   ]
  },
  {
   "cell_type": "code",
   "execution_count": 6,
   "id": "841aca0d",
   "metadata": {},
   "outputs": [],
   "source": [
    "# use models trained\n",
    "ir_b.intent_models = intention_models_trained_b"
   ]
  },
  {
   "cell_type": "code",
   "execution_count": 7,
   "id": "09054cca",
   "metadata": {},
   "outputs": [],
   "source": [
    "transcript_eg = \"turn on music\"\n",
    "intents_result = ir_b.get_intents(transcript_eg, les_b, tfidfv_b)"
   ]
  },
  {
   "cell_type": "code",
   "execution_count": 8,
   "id": "43f12c31",
   "metadata": {},
   "outputs": [],
   "source": [
    "# 2 - zero shot model\n",
    "# zs_model = pipeline(\"zero-shot-classification\", model=\"joeddav/xlm-roberta-large-xnli\")\n",
    "zs_model = pipeline(\"zero-shot-classification\", model=\"facebook/bart-large-mnli\")\n",
    "\n",
    "def get_discourse(query_in, labels_in):\n",
    "    zsc_result = zs_model(query_in, labels_in)\n",
    "    zsc_labels = zsc_result[\"labels\"]  \n",
    "    zsc_scores = zsc_result[\"scores\"]\n",
    "    discourse_prediction = zsc_labels[zsc_scores.index(max(zsc_scores))]\n",
    "    return discourse_prediction"
   ]
  },
  {
   "cell_type": "code",
   "execution_count": 9,
   "id": "2f86add3",
   "metadata": {},
   "outputs": [],
   "source": [
    "# 3 - conversational\n",
    "converser = pipeline(\"conversational\",\n",
    "                      model=\"facebook/blenderbot-400M-distill\")"
   ]
  },
  {
   "cell_type": "code",
   "execution_count": 10,
   "id": "68d1ef05",
   "metadata": {},
   "outputs": [],
   "source": [
    "# 4- paraphrasing\n",
    "# paraphraser = Parrot(model_tag=\"prithivida/parrot_paraphraser_on_T5\", use_gpu=False)\n",
    "\n",
    "# phrases = [\"Can you recommed some upscale restaurants in Newyork?\",\n",
    "#            \"What are the famous places we should not miss in Russia?\"\n",
    "# ]\n",
    "\n",
    "# for phrase in phrases:\n",
    "#     print(\"-\"*100)\n",
    "#     print(\"Input_phrase: \", phrase)\n",
    "#     print(\"-\"*100)\n",
    "#     para_phrases = paraphraser.augment(input_phrase=phrase)\n",
    "#     for para_phrase in para_phrases:\n",
    "#         print(para_phrase)"
   ]
  },
  {
   "cell_type": "code",
   "execution_count": 11,
   "id": "cfe4d60d",
   "metadata": {},
   "outputs": [],
   "source": [
    "# 5 - storytelling\n",
    "# from transformers import pipeline\n",
    "\n",
    "# story_gen = pipeline(\"text-generation\", \"pranavpsv/gpt2-genre-story-generator\")\n",
    "# print(story_gen(\"<BOS> <superhero> Batman\"))"
   ]
  },
  {
   "cell_type": "code",
   "execution_count": 12,
   "id": "1b983d83",
   "metadata": {},
   "outputs": [],
   "source": [
    "# 6 - task oriented modules\n",
    "with open('Saved/intention_models.pickle', 'rb') as handle:\n",
    "    intention_models_b = pickle.load(handle)\n",
    "with open('Saved/tfidfV.pickle', 'rb') as handle:\n",
    "    tfidfv_b = pickle.load(handle)\n",
    "with open('Saved/les.pickle', 'rb') as handle:\n",
    "    les_b = pickle.load(handle)\n",
    "    \n",
    "ir_b = IntentRecognizer()\n",
    "ir_b.intent_models = intention_models_b"
   ]
  },
  {
   "cell_type": "markdown",
   "id": "2b033b88",
   "metadata": {},
   "source": [
    "### `1.3) Dialog Management and State Tracking - setup`"
   ]
  },
  {
   "cell_type": "code",
   "execution_count": 13,
   "id": "7469fc23",
   "metadata": {},
   "outputs": [],
   "source": [
    "from src.dialog_manager.manage import manage_dialog"
   ]
  },
  {
   "cell_type": "code",
   "execution_count": 14,
   "id": "11dc3a17",
   "metadata": {},
   "outputs": [],
   "source": [
    "initial_states = {\"music\": {\"none\": \"off\"},\n",
    "          \"lights\": {\"none\": \"on\", \"bedroom\": \"on\", \"washroom\":\"on\", \"kitchen\": \"on\"},\n",
    "          \"volume\": {\"none\":\"3\"},\n",
    "          \"heat\": {\"none\":\"warm\", \"bedroom\":\"warm\", \"washroom\":\"warm\", \"kitchen\": \"warm\"},\n",
    "          \"lamp\": {\"none\": \"off\"},\n",
    "          \"newspaper\": {\"none\": \"not brought\"},\n",
    "          \"juice\": {\"none\": \"not brought\"},\n",
    "          \"socks\": {\"none\": \"not brought\"},\n",
    "          \"chinese\": {\"none\": \"off\"},\n",
    "          \"korean\": {\"none\": \"off\"},\n",
    "          \"english\": {\"none\": \"on\"},\n",
    "          \"german\": {\"none\": \"off\"},\n",
    "          \"shoes\": {\"none\": \"not brought\"}}"
   ]
  },
  {
   "cell_type": "code",
   "execution_count": 15,
   "id": "3642944d",
   "metadata": {},
   "outputs": [],
   "source": [
    "states = initial_states\n",
    "\n",
    "# current_intent_test = {'action': 'increase', 'object': 'volume', 'location': 'none'}\n",
    "current_intent_test = intents_result\n",
    "states_main, prompt_main, prev_states_main = manage_dialog(current_intent_test, states)"
   ]
  },
  {
   "cell_type": "code",
   "execution_count": 16,
   "id": "c6e99ba3",
   "metadata": {},
   "outputs": [
    {
     "data": {
      "text/plain": [
       "['music: activated']"
      ]
     },
     "execution_count": 16,
     "metadata": {},
     "output_type": "execute_result"
    }
   ],
   "source": [
    "prompt_main"
   ]
  },
  {
   "cell_type": "code",
   "execution_count": 17,
   "id": "638919a6",
   "metadata": {},
   "outputs": [
    {
     "data": {
      "text/plain": [
       "('music', {'none': 'off'})"
      ]
     },
     "execution_count": 17,
     "metadata": {},
     "output_type": "execute_result"
    }
   ],
   "source": [
    "current_intent_test[\"object\"], prev_states_main[current_intent_test[\"object\"]]"
   ]
  },
  {
   "cell_type": "code",
   "execution_count": 18,
   "id": "99206fd4",
   "metadata": {},
   "outputs": [
    {
     "data": {
      "text/plain": [
       "('music', {'none': 'on'})"
      ]
     },
     "execution_count": 18,
     "metadata": {},
     "output_type": "execute_result"
    }
   ],
   "source": [
    "current_intent_test[\"object\"], states_main[current_intent_test[\"object\"]]"
   ]
  },
  {
   "cell_type": "markdown",
   "id": "cd8b5c0a",
   "metadata": {},
   "source": [
    "### `1.4) Text-to-Speech - setup`"
   ]
  },
  {
   "cell_type": "code",
   "execution_count": 19,
   "id": "69b4b863",
   "metadata": {},
   "outputs": [],
   "source": [
    "import pyttsx3"
   ]
  },
  {
   "cell_type": "code",
   "execution_count": 20,
   "id": "682f3e7f",
   "metadata": {},
   "outputs": [],
   "source": [
    "# setting up the voice\n",
    "engine = pyttsx3.init('sapi5')\n",
    "voices = engine.getProperty('voices') #gets you the details of the current voice\n",
    "\n",
    "engine.setProperty('voice', voices[1].id)  # 0-male voice , 1-female voice\n",
    "engine.setProperty('rate', 200) "
   ]
  },
  {
   "cell_type": "code",
   "execution_count": 21,
   "id": "051468e2",
   "metadata": {},
   "outputs": [],
   "source": [
    "def speak(audio):   \n",
    "    engine.say(audio)    \n",
    "    engine.runAndWait()  "
   ]
  },
  {
   "cell_type": "code",
   "execution_count": 22,
   "id": "29f59161",
   "metadata": {},
   "outputs": [],
   "source": [
    "speak(\"hello\")"
   ]
  },
  {
   "cell_type": "markdown",
   "id": "792cdc2f",
   "metadata": {},
   "source": [
    "### `1.5) NLG - setup`"
   ]
  },
  {
   "cell_type": "code",
   "execution_count": 23,
   "id": "b430eb30",
   "metadata": {},
   "outputs": [],
   "source": [
    "def greet_time():\n",
    "    hour = int(datetime.datetime.now().hour)\n",
    "    if hour>=0 and hour<12:\n",
    "        speak(\"Good Morning!\")    \n",
    "    \n",
    "    elif hour>=12 and hour<18:\n",
    "        speak(\"Good Afternoon!\")       \n",
    "    \n",
    "    else:\n",
    "        speak(\"Good Evening!\")   "
   ]
  },
  {
   "cell_type": "markdown",
   "id": "5912aec3",
   "metadata": {},
   "source": [
    "### `1.6) Other Libraries - setup`"
   ]
  },
  {
   "cell_type": "code",
   "execution_count": 24,
   "id": "7825902b",
   "metadata": {},
   "outputs": [],
   "source": [
    "import webbrowser\n",
    "# import pyttsx3\n",
    "import datetime\n",
    "import wikipedia\n",
    "import os\n",
    "import random"
   ]
  },
  {
   "cell_type": "markdown",
   "id": "854adc2a",
   "metadata": {},
   "source": [
    "---"
   ]
  },
  {
   "cell_type": "markdown",
   "id": "2e350861",
   "metadata": {},
   "source": [
    "# `2) Running`"
   ]
  },
  {
   "cell_type": "code",
   "execution_count": 42,
   "id": "85a4ed9b",
   "metadata": {},
   "outputs": [],
   "source": [
    "discourse_labels = [\"conversational\", \"command\"]"
   ]
  },
  {
   "cell_type": "code",
   "execution_count": 47,
   "id": "88a96719",
   "metadata": {},
   "outputs": [],
   "source": [
    "key=False"
   ]
  },
  {
   "cell_type": "code",
   "execution_count": 48,
   "id": "e7c550ed",
   "metadata": {},
   "outputs": [
    {
     "ename": "KeyboardInterrupt",
     "evalue": "",
     "output_type": "error",
     "traceback": [
      "\u001b[1;31m---------------------------------------------------------------------------\u001b[0m",
      "\u001b[1;31mKeyboardInterrupt\u001b[0m                         Traceback (most recent call last)",
      "Cell \u001b[1;32mIn[48], line 4\u001b[0m\n\u001b[0;32m      1\u001b[0m greet_time()\n\u001b[0;32m      2\u001b[0m prev_response \u001b[38;5;241m=\u001b[39m \u001b[38;5;124m\"\u001b[39m\u001b[38;5;124m\"\u001b[39m\n\u001b[1;32m----> 4\u001b[0m \u001b[38;5;28;01mwhile\u001b[39;00m \u001b[38;5;28;01mTrue\u001b[39;00m:\n\u001b[0;32m      5\u001b[0m     \u001b[38;5;28;01mif\u001b[39;00m key:\n\u001b[0;32m      6\u001b[0m         query \u001b[38;5;241m=\u001b[39m takeCommand()\u001b[38;5;241m.\u001b[39mlower() \u001b[38;5;66;03m#Converting user query into lower case\u001b[39;00m\n",
      "\u001b[1;31mKeyboardInterrupt\u001b[0m: "
     ]
    }
   ],
   "source": [
    "greet_time()\n",
    "prev_response = \"\"\n",
    "\n",
    "while True:\n",
    "    if key:\n",
    "        query = takeCommand().lower() #Converting user query into lower case\n",
    "        print(\"QUERY: {}\".format(query))\n",
    "        discourse_prediction = get_discourse(query_in=query, labels_in=discourse_labels)\n",
    "        print(discourse_prediction)\n",
    "\n",
    "\n",
    "        if query == \"none\" or len(query) == 0:\n",
    "            continue\n",
    "\n",
    "\n",
    "        if discourse_prediction == \"command\":\n",
    "            if 'wikipedia' in query:  \n",
    "                speak('Searching Wikipedia...')\n",
    "                query = query.replace(\"wikipedia\", \"\")\n",
    "                if query == \"\":\n",
    "                    query = \"nothing\"\n",
    "                results = wikipedia.summary(query, sentences=5)\n",
    "                print(results)\n",
    "                response = \"According to Wikipedia, {}\".format(results)\n",
    "                speak(response)\n",
    "\n",
    "            elif 'open youtube' in query:\n",
    "                webbrowser.open(\"youtube.com\")\n",
    "                response = \"youtube opened\"\n",
    "                speak(response)\n",
    "\n",
    "            elif 'open google' in query:\n",
    "                webbrowser.open(\"google.com\")\n",
    "                response = \"google opened\"\n",
    "                speak(response)\n",
    "\n",
    "            elif 'play music' in query:\n",
    "                music_dir = 'music_dir_of_the_user'\n",
    "                songs = os.listdir(music_dir)\n",
    "                print(songs)    \n",
    "                os.startfile(os.path.join(music_dir, songs[0]))\n",
    "                response = \"playing music\"\n",
    "\n",
    "            elif 'the time' in query:\n",
    "                strTime = datetime.datetime.now().strftime(\"%H:%M:%S\")\n",
    "                response = f\"Sir, the time is {strTime}\"\n",
    "                speak(response)\n",
    "\n",
    "            elif ('open stackoverflow' in query) or ('open stack overflow' in query):                           \n",
    "                webbrowser.open('stackoverflow.com')\n",
    "                response = \"stackoverflow opened\"\n",
    "\n",
    "            elif ('open free code camp' in query) or ('open freecodecamp' in query):            \n",
    "                webbrowser.open('freecodecamp.org')\n",
    "                response = \"freecodecamp opened\"\n",
    "\n",
    "            else:\n",
    "                if \"in home\" in query:\n",
    "                    intents = ir_b.get_intents(query, les_b, tfidfv_b)\n",
    "                    if intents['object'] == \"none\":\n",
    "                        intents['object'] = \"english\"\n",
    "                        print(intents)\n",
    "    #                 ver_state, ver_intent = verify_intent(intents[\"action\"], intents[\"object\"], intents[\"location\"])\n",
    "    #                 if not ver_state:\n",
    "    #                     # asking \n",
    "    #                     conversation = Conversation(query)\n",
    "    #                     response = converser(conversation).generated_responses[-1]\n",
    "    #                     speak(response)\n",
    "    #                 else:\n",
    "\n",
    "                    # manage dialog and state change\n",
    "                    ver_intent = intents\n",
    "                    states_main, prompt_main, prev_states_main = manage_dialog(ver_intent, states)\n",
    "                    if len(prompt_main) == 1:\n",
    "                        response = prompt_main[0]\n",
    "    #                     print(ver_intent[\"object\"], prev_states_main[ver_intent[\"object\"]])\n",
    "    #                     print(ver_intent[\"object\"], states_main[ver_intent[\"object\"]])\n",
    "                    else:\n",
    "                        response = \" \".join(prompt_main[:-1])\n",
    "                    speak(response)\n",
    "                else:\n",
    "                    # asking \n",
    "                    conversation = Conversation(query)\n",
    "                    response = converser(conversation).generated_responses[-1]\n",
    "                    speak(response)\n",
    "\n",
    "\n",
    "        elif discourse_prediction == \"conversational\":\n",
    "            conversation = Conversation(query)\n",
    "            response = converser(conversation).generated_responses[-1]\n",
    "    #         responses = converser(conversation).generated_responses \n",
    "    #         response_ind = random.randint(0, len(responses) -1 )\n",
    "    #         response = responses[-1]\n",
    "            speak(response)\n",
    "    \n",
    "    prev_response = response"
   ]
  },
  {
   "cell_type": "code",
   "execution_count": 51,
   "id": "9761301a",
   "metadata": {},
   "outputs": [
    {
     "name": "stdout",
     "output_type": "stream",
     "text": [
      "Listening...\n",
      "Recognizing...\n",
      "result2:\n",
      "{   'alternative': [{'confidence': 0.97219545, 'transcript': 'how are you'}],\n",
      "    'final': True}\n",
      "User said: how are you\n",
      "\n",
      "QUERY: how are you\n",
      "conversational\n"
     ]
    }
   ],
   "source": [
    "greet_time() \n",
    "query = takeCommand().lower()  # Converting user query into lower case\n",
    "print(\"QUERY: {}\".format(query))\n",
    "discourse_prediction = get_discourse(query_in=query, labels_in=discourse_labels)\n",
    "print(discourse_prediction)\n",
    "\n",
    "\n",
    "if discourse_prediction == \"command\":\n",
    "    if 'wikipedia' in query:\n",
    "        speak('Searching Wikipedia...')\n",
    "        query = query.replace(\"wikipedia\", \"\")\n",
    "        if query == \"\":\n",
    "            query = \"nothing\"\n",
    "        results = wikipedia.summary(query, sentences=5)\n",
    "        print(results)\n",
    "        response = \"According to Wikipedia, {}\".format(results)\n",
    "        speak(response)\n",
    "\n",
    "    elif 'open youtube' in query:\n",
    "        webbrowser.open(\"youtube.com\")\n",
    "        response = \"youtube opened\"\n",
    "        speak(response)\n",
    "\n",
    "    elif 'open google' in query:\n",
    "        webbrowser.open(\"google.com\")\n",
    "        response = \"google opened\"\n",
    "        speak(response)\n",
    "\n",
    "    elif 'play music' in query:\n",
    "        music_dir = 'music_dir_of_the_user'\n",
    "        songs = os.listdir(music_dir)\n",
    "        print(songs)\n",
    "        os.startfile(os.path.join(music_dir, songs[0]))\n",
    "        response = \"playing music\"\n",
    "\n",
    "    elif 'the time' in query:\n",
    "        strTime = datetime.datetime.now().strftime(\"%H:%M:%S\")\n",
    "        response = f\"Sir, the time is {strTime}\"\n",
    "        speak(response)\n",
    "\n",
    "    elif ('open stackoverflow' in query) or ('open stack overflow' in query):\n",
    "        webbrowser.open('stackoverflow.com')\n",
    "        response = \"stackoverflow opened\"\n",
    "\n",
    "    elif ('open free code camp' in query) or ('open freecodecamp' in query):\n",
    "        webbrowser.open('freecodecamp.org')\n",
    "        response = \"freecodecamp opened\"\n",
    "\n",
    "    else:\n",
    "        if \"in home\" in query:\n",
    "            intents = ir_b.get_intents(query, les_b, tfidfv_b)\n",
    "            if intents['object'] == \"none\":\n",
    "                intents['object'] = \"english\"\n",
    "                print(intents)\n",
    "\n",
    "            # manage dialog and state change\n",
    "            ver_intent = intents\n",
    "            states_main, prompt_main, prev_states_main = manage_dialog(ver_intent, states)\n",
    "            if len(prompt_main) == 1:\n",
    "                response = prompt_main[0]\n",
    "            else:\n",
    "                response = \" \".join(prompt_main[:-1])\n",
    "            speak(response)\n",
    "        else:\n",
    "            # asking\n",
    "            conversation = Conversation(query)\n",
    "            response = converser(conversation).generated_responses[-1]\n",
    "            speak(response)\n",
    "\n",
    "elif discourse_prediction == \"conversational\":\n",
    "    conversation = Conversation(query)\n",
    "    response = converser(conversation).generated_responses[-1]\n",
    "    speak(response)"
   ]
  },
  {
   "cell_type": "code",
   "execution_count": 53,
   "id": "d2aeb85b",
   "metadata": {},
   "outputs": [
    {
     "ename": "SyntaxError",
     "evalue": "Missing parentheses in call to 'print'. Did you mean print(...)? (speech.py, line 157)",
     "output_type": "error",
     "traceback": [
      "Traceback \u001b[1;36m(most recent call last)\u001b[0m:\n",
      "\u001b[0m  File \u001b[0;32m~\\OneDrive\\Documents\\Personal\\Uni\\NLP\\project\\test-venv\\lib\\site-packages\\IPython\\core\\interactiveshell.py:3433\u001b[0m in \u001b[0;35mrun_code\u001b[0m\n    exec(code_obj, self.user_global_ns, self.user_ns)\u001b[0m\n",
      "\u001b[1;36m  Cell \u001b[1;32mIn[53], line 1\u001b[1;36m\n\u001b[1;33m    import speech\u001b[1;36m\n",
      "\u001b[1;36m  File \u001b[1;32m~\\OneDrive\\Documents\\Personal\\Uni\\NLP\\project\\test-venv\\lib\\site-packages\\speech.py:157\u001b[1;36m\u001b[0m\n\u001b[1;33m    print prompt\u001b[0m\n\u001b[1;37m    ^\u001b[0m\n\u001b[1;31mSyntaxError\u001b[0m\u001b[1;31m:\u001b[0m Missing parentheses in call to 'print'. Did you mean print(...)?\n"
     ]
    }
   ],
   "source": [
    "import speech\n",
    "\n",
    "speech.say('Hola mundo', 'es_ES')"
   ]
  }
 ],
 "metadata": {
  "kernelspec": {
   "display_name": "sr-test-venv",
   "language": "python",
   "name": "sr-test-venv"
  },
  "language_info": {
   "codemirror_mode": {
    "name": "ipython",
    "version": 3
   },
   "file_extension": ".py",
   "mimetype": "text/x-python",
   "name": "python",
   "nbconvert_exporter": "python",
   "pygments_lexer": "ipython3",
   "version": "3.10.1"
  }
 },
 "nbformat": 4,
 "nbformat_minor": 5
}
